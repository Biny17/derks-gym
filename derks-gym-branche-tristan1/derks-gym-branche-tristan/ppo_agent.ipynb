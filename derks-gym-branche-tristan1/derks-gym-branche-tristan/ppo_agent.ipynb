{
 "cells": [
  {
   "cell_type": "code",
   "execution_count": 6,
   "metadata": {},
   "outputs": [],
   "source": [
    "from src import environments\n",
    "import nest_asyncio\n",
    "nest_asyncio.apply()\n",
    "\n",
    "import tensorflow as tf\n",
    "from gym_derk.envs import DerkEnv\n",
    "from tensorflow.keras import layers\n",
    "from tensorflow import keras\n",
    "import numpy as np\n",
    "from src.environments import EnvPerso, EnvTensorOne\n",
    "import tf_agents\n",
    "from tf_agents.specs import tensor_spec\n",
    "from tf_agents.policies import py_tf_eager_policy\n",
    "from tf_agents.drivers import py_driver\n",
    "\n",
    "from tf_agents.eval import metric_utils\n",
    "from tf_agents.metrics import tf_metrics\n",
    "from tf_agents.networks import sequential\n",
    "from tf_agents.policies import py_tf_eager_policy\n",
    "from tf_agents.policies import random_tf_policy\n",
    "import tensorflow as tf\n",
    "from tf_agents.agents.ppo import ppo_agent\n",
    "from tf_agents.networks import actor_distribution_network, value_network"
   ]
  },
  {
   "cell_type": "code",
   "execution_count": 37,
   "metadata": {},
   "outputs": [
    {
     "data": {
      "text/plain": [
       "[]"
      ]
     },
     "execution_count": 37,
     "metadata": {},
     "output_type": "execute_result"
    }
   ],
   "source": [
    "tf.config.list_physical_devices('GPU')"
   ]
  },
  {
   "cell_type": "code",
   "execution_count": 7,
   "metadata": {},
   "outputs": [
    {
     "name": "stdout",
     "output_type": "stream",
     "text": [
      "The autoreload extension is already loaded. To reload it, use:\n",
      "  %reload_ext autoreload\n"
     ]
    }
   ],
   "source": [
    "%load_ext autoreload\n",
    "%autoreload 2"
   ]
  },
  {
   "cell_type": "code",
   "execution_count": 44,
   "metadata": {},
   "outputs": [],
   "source": [
    "reward= {\n",
    "    \"damageEnemyStatue\": 4,\n",
    "    \"damageEnemyUnit\": 2,\n",
    "    \"killEnemyStatue\": 4,\n",
    "    \"killEnemyUnit\": 2,\n",
    "    \"healFriendlyStatue\": 1,\n",
    "    \"healTeammatel\": 2,\n",
    "    \"healTeammate2\": 2,\n",
    "    \"timeSpentHomeBase\": 0,\n",
    "    \"timeSpentHomeTerritory\": 0,\n",
    "    \"timeSpentAwayTerritory\": 0,\n",
    "    \"timeSpentAwayBase\": 0,\n",
    "    \"damageTaken\": -1,\n",
    "    \"friendlyFire\": -1,\n",
    "    \"healEnemy\": -1,\n",
    "    \"fallDamageTaken\": -10,\n",
    "    \"statueDamageTaken\": 0,\n",
    "    \"manualBonus\": 0,\n",
    "    \"victory\": 100,\n",
    "    \"loss\": -100,\n",
    "    \"tie\": 0,\n",
    "    \"teamSpirit\": 0.5,\n",
    "    \"timeScaling\": 1,\n",
    "}\n",
    "args = {\"home_team\":[\n",
    "    {\n",
    "        'primaryColor': '#00ff00',\n",
    "        'slots': ['Blaster', 'ParalyzingDart', 'HeliumBubblegum']\n",
    "    },\n",
    "    {\n",
    "        'primaryColor': '#00ff00',\n",
    "        'slots': ['Blaster', 'ParalyzingDart', 'HeliumBubblegum']\n",
    "    },\n",
    "    {\n",
    "        'primaryColor': '#00ff00',\n",
    "        'slots': ['Pistol', 'HealingGland', 'FrogLegs']\n",
    "    },\n",
    "],\n",
    "\"away_team\":[\n",
    "            {\n",
    "                'primaryColor': '#00ff00',\n",
    "                'slots': ['Pistol', 'HealingGland', 'FrogLegs']\n",
    "            },\n",
    "            {\n",
    "                'primaryColor': '#00ff00',\n",
    "                'slots':\n",
    "                ['Blaster', 'ParalyzingDart', 'HeliumBubblegum']\n",
    "            },\n",
    "            {\n",
    "                'primaryColor': '#00ff00',\n",
    "                'slots': ['Pistol', 'HealingGland', 'FrogLegs']\n",
    "            },\n",
    "        ]}\n",
    "\n",
    "\n",
    "try:\n",
    "    env.close()\n",
    "finally:\n",
    "    env = EnvTensorOne(reward_function = reward, turbo_mode=True, **args)"
   ]
  },
  {
   "cell_type": "code",
   "execution_count": 9,
   "metadata": {},
   "outputs": [],
   "source": [
    "# Define the network for the agent.\n",
    "actor_net = actor_distribution_network.ActorDistributionNetwork(\n",
    "    env.observation_tensor_spec(),\n",
    "    env.action_tensor_spec())\n",
    "\n",
    "value_net = value_network.ValueNetwork(\n",
    "    env.observation_tensor_spec())\n",
    "\n",
    "# Define the keras optimizer.\n",
    "optimizer = tf.keras.optimizers.Adam(learning_rate=1e-3)\n",
    "\n",
    "# Define the train step counter.\n",
    "train_step_counter = tf.Variable(0)\n",
    "\n",
    "# Create the PPO agent.\n",
    "agent = ppo_agent.PPOAgent(\n",
    "    env.time_step_spec(),\n",
    "    env.action_tensor_spec(),\n",
    "    optimizer,\n",
    "    actor_net=actor_net,\n",
    "    value_net=value_net,\n",
    "    train_step_counter=train_step_counter)\n",
    "\n",
    "# Initialize the agent.\n",
    "agent.initialize()"
   ]
  },
  {
   "cell_type": "code",
   "execution_count": 10,
   "metadata": {},
   "outputs": [
    {
     "data": {
      "text/plain": [
       "TimeStep(\n",
       "{'discount': BoundedTensorSpec(shape=(), dtype=tf.float32, name='discount', minimum=array(0., dtype=float32), maximum=array(1., dtype=float32)),\n",
       " 'observation': BoundedTensorSpec(shape=(64,), dtype=tf.float32, name='observation', minimum=array(-1., dtype=float32), maximum=array(1., dtype=float32)),\n",
       " 'reward': BoundedTensorSpec(shape=(), dtype=tf.float32, name='reward', minimum=array(0., dtype=float32), maximum=array(inf, dtype=float32)),\n",
       " 'step_type': TensorSpec(shape=(), dtype=tf.int32, name='step_type')})"
      ]
     },
     "execution_count": 10,
     "metadata": {},
     "output_type": "execute_result"
    }
   ],
   "source": [
    "env.time_step_spec()"
   ]
  },
  {
   "cell_type": "code",
   "execution_count": 11,
   "metadata": {},
   "outputs": [
    {
     "data": {
      "text/plain": [
       "_TupleWrapper(Trajectory(\n",
       "{'action': BoundedTensorSpec(shape=(15,), dtype=tf.float32, name='action', minimum=array(-1., dtype=float32), maximum=array(1., dtype=float32)),\n",
       " 'discount': BoundedTensorSpec(shape=(), dtype=tf.float32, name='discount', minimum=array(0., dtype=float32), maximum=array(1., dtype=float32)),\n",
       " 'next_step_type': TensorSpec(shape=(), dtype=tf.int32, name='step_type'),\n",
       " 'observation': BoundedTensorSpec(shape=(64,), dtype=tf.float32, name='observation', minimum=array(-1., dtype=float32), maximum=array(1., dtype=float32)),\n",
       " 'policy_info': DictWrapper({'dist_params': DictWrapper({'loc': TensorSpec(shape=(15,), dtype=tf.float32, name='NormalProjectionNetwork_loc'), 'scale': TensorSpec(shape=(15,), dtype=tf.float32, name='NormalProjectionNetwork_scale')})}),\n",
       " 'reward': BoundedTensorSpec(shape=(), dtype=tf.float32, name='reward', minimum=array(0., dtype=float32), maximum=array(inf, dtype=float32)),\n",
       " 'step_type': TensorSpec(shape=(), dtype=tf.int32, name='step_type')}))"
      ]
     },
     "execution_count": 11,
     "metadata": {},
     "output_type": "execute_result"
    }
   ],
   "source": [
    "agent.collect_data_spec"
   ]
  },
  {
   "cell_type": "code",
   "execution_count": 12,
   "metadata": {},
   "outputs": [],
   "source": [
    "batch_size = 1\n",
    "replay_buffer_max_length = 1000\n",
    "initial_collect_steps = 100"
   ]
  },
  {
   "cell_type": "code",
   "execution_count": 13,
   "metadata": {},
   "outputs": [],
   "source": [
    "from tf_agents.replay_buffers import tf_uniform_replay_buffer\n",
    "\n",
    "replay_buffer_capacity = 1000\n",
    "\n",
    "replay_buffer = tf_uniform_replay_buffer.TFUniformReplayBuffer(\n",
    "    data_spec=agent.collect_data_spec,\n",
    "    batch_size=batch_size,\n",
    "    max_length=replay_buffer_capacity)"
   ]
  },
  {
   "cell_type": "code",
   "execution_count": 11,
   "metadata": {},
   "outputs": [],
   "source": [
    "# class ReplayBufferDebugger(tf_uniform_replay_buffer.TFUniformReplayBuffer):\n",
    "#     def add_batch(self, items):\n",
    "#         print(items)\n",
    "#         super().add_batch(items)"
   ]
  },
  {
   "cell_type": "code",
   "execution_count": 15,
   "metadata": {},
   "outputs": [
    {
     "name": "stdout",
     "output_type": "stream",
     "text": [
      "WARNING:tensorflow:From /home/trist/.pyenv/versions/3.10.6/envs/lewagon/lib/python3.10/site-packages/tf_agents/replay_buffers/tf_uniform_replay_buffer.py:342: CounterV2 (from tensorflow.python.data.experimental.ops.counter) is deprecated and will be removed in a future version.\n",
      "Instructions for updating:\n",
      "Use `tf.data.Dataset.counter(...)` instead.\n"
     ]
    },
    {
     "name": "stdout",
     "output_type": "stream",
     "text": [
      "WARNING:tensorflow:From /home/trist/.pyenv/versions/3.10.6/envs/lewagon/lib/python3.10/site-packages/tensorflow/python/autograph/impl/api.py:377: ReplayBuffer.get_next (from tf_agents.replay_buffers.replay_buffer) is deprecated and will be removed in a future version.\n",
      "Instructions for updating:\n",
      "Use `as_dataset(..., single_deterministic_pass=False) instead.\n"
     ]
    },
    {
     "name": "stderr",
     "output_type": "stream",
     "text": [
      "2023-07-08 09:45:18.698933: I tensorflow/core/common_runtime/executor.cc:1197] [/device:CPU:0] (DEBUG INFO) Executor start aborting (this does not indicate an error and you can ignore this message): INVALID_ARGUMENT: You must feed a value for placeholder tensor 'Placeholder/_17' with dtype resource\n",
      "\t [[{{node Placeholder/_17}}]]\n"
     ]
    }
   ],
   "source": [
    "dataset = replay_buffer.as_dataset(\n",
    "    sample_batch_size=32,\n",
    "    num_steps=10).prefetch(3)\n",
    "\n",
    "iterator = iter(dataset)"
   ]
  },
  {
   "cell_type": "code",
   "execution_count": 43,
   "metadata": {},
   "outputs": [
    {
     "name": "stdout",
     "output_type": "stream",
     "text": [
      "done\n"
     ]
    }
   ],
   "source": [
    "#import trajectory\n",
    "from tf_agents.trajectories import trajectory\n",
    "\n",
    "for _ in range(1):\n",
    "    time_step = env.reset()\n",
    "    while not time_step.is_last():\n",
    "        action_step = agent.collect_policy.action(time_step)\n",
    "        next_time_step = env.step(action_step.action)\n",
    "        traj = trajectory.from_transition(time_step, action_step, next_time_step)\n",
    "        batch = tf.nest.map_structure(lambda t: tf.expand_dims(t, 0), traj)\n",
    "        replay_buffer.add_batch(batch)\n",
    "        time_step = next_time_step\n"
   ]
  },
  {
   "cell_type": "code",
   "execution_count": 25,
   "metadata": {},
   "outputs": [
    {
     "data": {
      "text/plain": [
       "'2.16'"
      ]
     },
     "execution_count": 25,
     "metadata": {},
     "output_type": "execute_result"
    }
   ],
   "source": [
    "f\"{2.1567:.2f}\""
   ]
  },
  {
   "cell_type": "code",
   "execution_count": 41,
   "metadata": {},
   "outputs": [],
   "source": [
    "for _ in range(20):\n",
    "    experience, unused_info = next(iterator)\n",
    "    train_loss = agent.train(experience)"
   ]
  },
  {
   "cell_type": "code",
   "execution_count": 31,
   "metadata": {},
   "outputs": [
    {
     "data": {
      "text/plain": [
       "LossInfo(loss=<tf.Tensor: shape=(), dtype=float32, numpy=27.682693>, extra=PPOLossInfo(policy_gradient_loss=<tf.Tensor: shape=(), dtype=float32, numpy=-0.10904628>, value_estimation_loss=<tf.Tensor: shape=(), dtype=float32, numpy=14.743065>, l2_regularization_loss=<tf.Tensor: shape=(), dtype=float32, numpy=0.0>, entropy_regularization_loss=<tf.Tensor: shape=(), dtype=float32, numpy=0.0>, kl_penalty_loss=<tf.Tensor: shape=(), dtype=float32, numpy=13.048674>, clip_fraction=<tf.Tensor: shape=(), dtype=float32, numpy=0.0>))"
      ]
     },
     "execution_count": 31,
     "metadata": {},
     "output_type": "execute_result"
    }
   ],
   "source": [
    "train_loss"
   ]
  },
  {
   "cell_type": "code",
   "execution_count": 40,
   "metadata": {},
   "outputs": [],
   "source": [
    "def compute_avg_return(env, policy, num_episodes=10):\n",
    "\n",
    "  total_return = 0.0\n",
    "  for _ in range(num_episodes):\n",
    "\n",
    "    obs = env.reset()\n",
    "    episode_return = 0.0\n",
    "    done = False\n",
    "    \n",
    "    while not done:\n",
    "      action_step = policy.action(obs)\n",
    "      obs, reward, done, info = env.step(action_step.action)\n",
    "      episode_return += reward\n",
    "    total_return += episode_return\n",
    "\n",
    "  avg_return = total_return / num_episodes\n",
    "  print(avg_return)\n",
    "  return avg_return"
   ]
  },
  {
   "cell_type": "code",
   "execution_count": 17,
   "metadata": {},
   "outputs": [],
   "source": [
    "iterations = 1000\n",
    "batch_size = 32\n",
    "learning_rate = 0.001\n",
    "log_interval = 10\n",
    "nb_episodes = 2"
   ]
  },
  {
   "cell_type": "code",
   "execution_count": null,
   "metadata": {},
   "outputs": [],
   "source": [
    "# # Reset the train step.\n",
    "# agent.train_step_counter.assign(0)\n",
    "\n",
    "# # Evaluate the agent's policy once before training.\n",
    "# avg_return = compute_avg_return(env, agent.policy, 2)\n",
    "# returns = [avg_return]\n",
    "\n",
    "# # Reset the environment.\n",
    "# time_step = env.reset()\n",
    "\n",
    "# # Create a driver to collect experience.\n",
    "# collect_driver = dynamic_step_driver.DynamicStepDriver(\n",
    "#     env,\n",
    "#     agent.collect_policy,\n",
    "#     observers=None,\n",
    "#     num_steps=32) "
   ]
  },
  {
   "cell_type": "code",
   "execution_count": null,
   "metadata": {},
   "outputs": [],
   "source": [
    "# class Agent:\n",
    "#     def __init__(self, shape_of_model: tuple):\n",
    "#         nb_outputs = 15\n",
    "#         self.model = keras.models.Sequential()\n",
    "#         self.model.add(layers.Input(shape=(64,)))\n",
    "#         for n in shape_of_model:\n",
    "#             self.model.add(layers.Dense(units=n, activation='relu'))\n",
    "#         self.model.add(layers.Dense(units=nb_outputs, activation='linear'))\n",
    "    \n",
    "#     def action(self, state: np.ndarray):\n",
    "#         prediction = self.model.predict(state)\n",
    "#         # min max scaling\n",
    "        \n",
    "#         return self.model.predict(state)\n",
    "    \n"
   ]
  },
  {
   "cell_type": "code",
   "execution_count": null,
   "metadata": {},
   "outputs": [],
   "source": [
    "# class AgentManager:\n",
    "#     def __init__(self, env, number_of_agents):\n",
    "#         self.env = env\n",
    "#         self.agents = [Agent(shape_of_model=(15,15)) for i in range(number_of_agents)]\n",
    "            \n",
    "#     def take_action(self, observation):\n",
    "#         return [agent.action(observation) for agent in self.agents]   \n",
    "        \n",
    "        "
   ]
  }
 ],
 "metadata": {
  "kernelspec": {
   "display_name": "lewagon",
   "language": "python",
   "name": "python3"
  },
  "language_info": {
   "codemirror_mode": {
    "name": "ipython",
    "version": 3
   },
   "file_extension": ".py",
   "mimetype": "text/x-python",
   "name": "python",
   "nbconvert_exporter": "python",
   "pygments_lexer": "ipython3",
   "version": "3.10.6"
  },
  "orig_nbformat": 4
 },
 "nbformat": 4,
 "nbformat_minor": 2
}
