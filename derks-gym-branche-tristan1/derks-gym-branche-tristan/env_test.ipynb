{
 "cells": [
  {
   "cell_type": "code",
   "execution_count": 92,
   "metadata": {},
   "outputs": [],
   "source": [
    "import nest_asyncio\n",
    "nest_asyncio.apply()\n",
    "from tensorflow.keras import layers\n",
    "import tensorflow as tf\n",
    "import numpy as np\n",
    "from src.environments import EnvSix\n",
    "from tensorflow import keras\n",
    "from tensorflow.keras import Sequential, layers\n"
   ]
  },
  {
   "cell_type": "code",
   "execution_count": 106,
   "metadata": {},
   "outputs": [
    {
     "name": "stdout",
     "output_type": "stream",
     "text": [
      "The autoreload extension is already loaded. To reload it, use:\n",
      "  %reload_ext autoreload\n"
     ]
    }
   ],
   "source": [
    "%load_ext autoreload\n",
    "%autoreload 2"
   ]
  },
  {
   "cell_type": "code",
   "execution_count": 118,
   "metadata": {},
   "outputs": [],
   "source": [
    "def lerp(t, a=1, b=0.2):\n",
    "    return max(a + (b - a) * (t/50), b)"
   ]
  },
  {
   "cell_type": "code",
   "execution_count": 121,
   "metadata": {},
   "outputs": [],
   "source": [
    "class Agents:\n",
    "    def __init__(self, n_arenas=1):\n",
    "        self.n_arenas = n_arenas\n",
    "        self.generation = 0\n",
    "        self.picks = np.random.choice(20, replace=True, size=6)\n",
    "        self.models = [{'reward':-20,\n",
    "                        'model': self.initialize_model()} for _ in range(20)]\n",
    "\n",
    "    def initialize_model(self):\n",
    "        model = Sequential()\n",
    "        model.add(layers.Dense(64, input_dim=64, activation='relu'))\n",
    "        model.add(layers.Dense(32, activation='relu'))\n",
    "        model.add(layers.Dense(32, activation='relu'))\n",
    "        model.add(layers.Dense(15, activation='tanh'))\n",
    "        return model\n",
    "\n",
    "    def predict(self, obs):\n",
    "        return np.array([self.models[i].predict(x=obs[i], verbose=0) for i in self.picks])\n",
    "    \n",
    "    def add_noise_to_weights(self, model):\n",
    "        weights = model.get_weights()\n",
    "        noise = []\n",
    "        for weight in weights:\n",
    "            noise.append(np.random.normal(0, lerp(self.generation), size=weight.shape))\n",
    "        noisy_weights = [w + n for w, n in zip(weights, noise)]\n",
    "        model.set_weights(noisy_weights)\n",
    "        return model\n",
    "\n",
    "    def train(self, rewards):\n",
    "        self.save_model(self.models[np.argmax(rewards)], path=f\"model{np.max(rewards)}.h5\")\n",
    "        self.mutate(np.argmax(rewards))\n",
    "    \n",
    "    def mutate(self, best_model_index):\n",
    "        self.generation += 1\n",
    "        best_model = self.models[self.picks[best_model_index]]\n",
    "        for i in self.picks[1:]:\n",
    "            model = keras.models.clone_model(best_model)\n",
    "            model = self.add_noise_to_weights(best_model)\n",
    "            self.models[i] = model\n",
    "            \n",
    "    def new_picks(self):\n",
    "        self.picks = np.random.choice(20, replace=True, size=6)\n",
    "        \n",
    "            \n",
    "        \n",
    "    def save_model(self, model, path):\n",
    "        model.save(path)"
   ]
  },
  {
   "cell_type": "code",
   "execution_count": 98,
   "metadata": {},
   "outputs": [],
   "source": [
    "reward= {\n",
    "    \"damageEnemyStatue\": 4,\n",
    "    \"damageEnemyUnit\": 2,\n",
    "    \"killEnemyStatue\": 4,\n",
    "    \"killEnemyUnit\": 2,\n",
    "    \"healFriendlyStatue\": 1,\n",
    "    \"healTeammatel\": 2,\n",
    "    \"healTeammate2\": 2,\n",
    "    \"timeSpentHomeBase\": 0,\n",
    "    \"timeSpentHomeTerritory\": 0,\n",
    "    \"timeSpentAwayTerritory\": 0,\n",
    "    \"timeSpentAwayBase\": 0,\n",
    "    \"damageTaken\": -1,\n",
    "    \"friendlyFire\": -1,\n",
    "    \"healEnemy\": -1,\n",
    "    \"fallDamageTaken\": -10,\n",
    "    \"statueDamageTaken\": 0,\n",
    "    \"manualBonus\": 0,\n",
    "    \"victory\": 100,\n",
    "    \"loss\": -100,\n",
    "    \"tie\": 0,\n",
    "    \"teamSpirit\": 0.5,\n",
    "    \"timeScaling\": 1,\n",
    "}\n",
    "args = {\"home_team\":[\n",
    "    {\n",
    "        'primaryColor': '#00ff00',\n",
    "        'slots': ['Blaster', 'ParalyzingDart', 'HeliumBubblegum']\n",
    "    },\n",
    "    {\n",
    "        'primaryColor': '#00ff00',\n",
    "        'slots': ['Blaster', 'ParalyzingDart', 'HeliumBubblegum']\n",
    "    },\n",
    "    {\n",
    "        'primaryColor': '#00ff00',\n",
    "        'slots': ['Pistol', 'HealingGland', 'FrogLegs']\n",
    "    },\n",
    "],\n",
    "\"away_team\":[\n",
    "            {\n",
    "                'primaryColor': '#00ff00',\n",
    "                'slots': ['Pistol', 'HealingGland', 'FrogLegs']\n",
    "            },\n",
    "            {\n",
    "                'primaryColor': '#00ff00',\n",
    "                'slots':\n",
    "                ['Blaster', 'ParalyzingDart', 'HeliumBubblegum']\n",
    "            },\n",
    "            {\n",
    "                'primaryColor': '#00ff00',\n",
    "                'slots': ['Pistol', 'HealingGland', 'FrogLegs']\n",
    "            },\n",
    "        ]}\n",
    "\n",
    "\n",
    "try:\n",
    "    env.close()\n",
    "finally:\n",
    "    env = EnvSix(reward_function = reward, turbo_mode=True, **args, n_arenas=10)"
   ]
  },
  {
   "cell_type": "code",
   "execution_count": 99,
   "metadata": {},
   "outputs": [],
   "source": [
    "a = env.reset()"
   ]
  },
  {
   "cell_type": "code",
   "execution_count": 100,
   "metadata": {},
   "outputs": [
    {
     "data": {
      "text/plain": [
       "(5, 6, 64)"
      ]
     },
     "execution_count": 100,
     "metadata": {},
     "output_type": "execute_result"
    }
   ],
   "source": [
    "a.shape"
   ]
  },
  {
   "cell_type": "code",
   "execution_count": 102,
   "metadata": {},
   "outputs": [],
   "source": [
    "action = np.array([[env.space_action.sample() for i in range(6)] for j in range(env.n_arenas)])"
   ]
  },
  {
   "cell_type": "code",
   "execution_count": 105,
   "metadata": {},
   "outputs": [],
   "source": [
    "b = env.step(action)"
   ]
  },
  {
   "cell_type": "code",
   "execution_count": 104,
   "metadata": {},
   "outputs": [
    {
     "data": {
      "text/plain": [
       "(6, 64)"
      ]
     },
     "execution_count": 104,
     "metadata": {},
     "output_type": "execute_result"
    }
   ],
   "source": [
    "b[0][0].shape"
   ]
  },
  {
   "cell_type": "code",
   "execution_count": 52,
   "metadata": {},
   "outputs": [
    {
     "data": {
      "text/plain": [
       "(2, 6, 15)"
      ]
     },
     "execution_count": 52,
     "metadata": {},
     "output_type": "execute_result"
    }
   ],
   "source": [
    "action.shape"
   ]
  },
  {
   "cell_type": "code",
   "execution_count": null,
   "metadata": {},
   "outputs": [],
   "source": []
  }
 ],
 "metadata": {
  "kernelspec": {
   "display_name": "lewagon",
   "language": "python",
   "name": "python3"
  },
  "language_info": {
   "codemirror_mode": {
    "name": "ipython",
    "version": 3
   },
   "file_extension": ".py",
   "mimetype": "text/x-python",
   "name": "python",
   "nbconvert_exporter": "python",
   "pygments_lexer": "ipython3",
   "version": "3.10.6"
  },
  "orig_nbformat": 4
 },
 "nbformat": 4,
 "nbformat_minor": 2
}
