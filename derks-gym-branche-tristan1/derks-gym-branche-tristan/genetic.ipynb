{
 "cells": [
  {
   "cell_type": "code",
   "execution_count": 1,
   "metadata": {},
   "outputs": [
    {
     "name": "stderr",
     "output_type": "stream",
     "text": [
      "2023-07-01 17:33:13.975271: I tensorflow/core/platform/cpu_feature_guard.cc:182] This TensorFlow binary is optimized to use available CPU instructions in performance-critical operations.\n",
      "To enable the following instructions: AVX2 FMA, in other operations, rebuild TensorFlow with the appropriate compiler flags.\n"
     ]
    }
   ],
   "source": [
    "from tensorflow import keras\n",
    "from tensorflow.keras import Sequential, layers\n",
    "import numpy as np\n",
    "from gym_derk.envs import DerkEnv\n",
    "import nest_asyncio\n",
    "\n",
    "nest_asyncio.apply()\n",
    "from src.environments import EnvSix\n"
   ]
  },
  {
   "cell_type": "code",
   "execution_count": 2,
   "metadata": {},
   "outputs": [],
   "source": [
    "%load_ext autoreload\n",
    "%autoreload 2"
   ]
  },
  {
   "cell_type": "markdown",
   "metadata": {},
   "source": [
    "- Apprentissage génétique:\n",
    "\t1. Instancier 6 modèles Keras\n",
    "\t2. Associer chaque modèles à un agent\n",
    "\t3. Lancer un épisode avec les actions des modèles\n",
    "\t4. Recevoir les reward\n",
    "\t5. Garder les poids des modèles les plus performants\n",
    "\t6. Créer des variation du modèle le plus performant\n",
    "\t7. Recommencer étapes 2"
   ]
  },
  {
   "cell_type": "code",
   "execution_count": 3,
   "metadata": {},
   "outputs": [],
   "source": [
    "class Agents:\n",
    "\n",
    "    def __init__(self):\n",
    "        self.models = [self.initialize_model() for _ in range(6)]\n",
    "\n",
    "    def initialize_model(self):\n",
    "        model = Sequential()\n",
    "        model.add(layers.Dense(64, input_dim=64, activation='relu'))\n",
    "        model.add(layers.Dense(30, activation='relu'))\n",
    "        model.add(layers.Dense(30, activation='relu'))\n",
    "        model.add(layers.Dense(15, activation='tanh'))\n",
    "        return model\n",
    "\n",
    "    def predict(self, obs):\n",
    "        return np.array([self.models[i].predict(x=obs[i], verbose=0) for i in range(6)])\n",
    "\n",
    "    def add_noise_to_weights(self, model):\n",
    "        weights = model.get_weights()\n",
    "        noise = []\n",
    "        for weight in weights:\n",
    "            noise.append(np.random.normal(0, 1, size=weight.shape))\n",
    "        noisy_weights = [w + n for w, n in zip(weights, noise)]\n",
    "        model.set_weights(noisy_weights)\n",
    "        return model\n",
    "\n",
    "    def train(self, rewards):\n",
    "        self.save_model(self.models[np.argmax(rewards)], path=f\"model{np.max(rewards)}.h5\")\n",
    "        self.mutate(np.argmax(rewards))\n",
    "    \n",
    "    def mutate(self, best_model_index):\n",
    "        best_model = self.models[best_model_index]\n",
    "        new_models = []\n",
    "        # create 6 copies of the best model\n",
    "        for _ in range(6):\n",
    "            model = keras.models.clone_model(best_model)\n",
    "            model = self.add_noise_to_weights(best_model)\n",
    "            new_models.append(model)\n",
    "        self.models = new_models\n",
    "        \n",
    "    def save_model(self, model, path):\n",
    "        model.save(path)"
   ]
  },
  {
   "cell_type": "code",
   "execution_count": 4,
   "metadata": {},
   "outputs": [
    {
     "ename": "NameError",
     "evalue": "name 'env' is not defined",
     "output_type": "error",
     "traceback": [
      "\u001b[0;31m---------------------------------------------------------------------------\u001b[0m",
      "\u001b[0;31mNameError\u001b[0m                                 Traceback (most recent call last)",
      "\u001b[1;32m/home/trist/code/Biny17/derks-gym/genetic.ipynb Cell 5\u001b[0m in \u001b[0;36m1\n\u001b[0;32m----> <a href='vscode-notebook-cell://wsl%2Bubuntu/home/trist/code/Biny17/derks-gym/genetic.ipynb#Y102sdnNjb2RlLXJlbW90ZQ%3D%3D?line=0'>1</a>\u001b[0m env\u001b[39m.\u001b[39mclose()\n",
      "\u001b[0;31mNameError\u001b[0m: name 'env' is not defined"
     ]
    }
   ],
   "source": [
    "env.close()"
   ]
  },
  {
   "cell_type": "code",
   "execution_count": null,
   "metadata": {},
   "outputs": [],
   "source": [
    "reward = {\n",
    "    \"damageEnemyStatue\": 4,\n",
    "    \"damageEnemyUnit\": 2,\n",
    "    \"killEnemyStatue\": 4,\n",
    "    \"killEnemyUnit\": 2,\n",
    "    \"healFriendlyStatue\": 1,\n",
    "    \"healTeammatel\": 2,\n",
    "    \"healTeammate2\": 2,\n",
    "    \"timeSpentHomeBase\": 0,\n",
    "    \"timeSpentHomeTerritory\": 0,\n",
    "    \"timeSpentAwayTerritory\": 0,\n",
    "    \"timeSpentAwayBase\": 0,\n",
    "    \"damageTaken\": -1,\n",
    "    \"friendlyFire\": -1,\n",
    "    \"healEnemy\": -1,\n",
    "    \"fallDamageTaken\": -10,\n",
    "    \"statueDamageTaken\": 0,\n",
    "    \"manualBonus\": 0,\n",
    "    \"victory\": 100,\n",
    "    \"loss\": -100,\n",
    "    \"tie\": 0,\n",
    "    \"teamSpirit\": 0.5,\n",
    "    \"timeScaling\": 1,\n",
    "}"
   ]
  },
  {
   "cell_type": "code",
   "execution_count": null,
   "metadata": {},
   "outputs": [],
   "source": [
    "slot_1 = ['Blaster', 'ParalyzingDart', 'HeliumBubblegum']\n",
    "slot_2 = ['Pistol', 'HealingGland', 'FrogLegs']\n",
    "\n",
    "env = EnvSix(turbo_mode = True, reward_function=reward, )"
   ]
  },
  {
   "cell_type": "code",
   "execution_count": null,
   "metadata": {},
   "outputs": [],
   "source": [
    "observations.shape"
   ]
  },
  {
   "cell_type": "markdown",
   "metadata": {},
   "source": []
  },
  {
   "cell_type": "code",
   "execution_count": null,
   "metadata": {},
   "outputs": [],
   "source": [
    "observations = env.reset()\n",
    "observations = observations.reshape(6,1,64)\n",
    "actions = les_agents.predict(observations)\n",
    "step_return = env.step(actions)"
   ]
  },
  {
   "cell_type": "code",
   "execution_count": null,
   "metadata": {},
   "outputs": [],
   "source": [
    "les_agents = Agents()"
   ]
  },
  {
   "cell_type": "code",
   "execution_count": null,
   "metadata": {},
   "outputs": [],
   "source": []
  },
  {
   "cell_type": "code",
   "execution_count": null,
   "metadata": {},
   "outputs": [
    {
     "name": "stdout",
     "output_type": "stream",
     "text": [
      "7.034779474139214\n",
      "WARNING:tensorflow:Compiled the loaded model, but the compiled metrics have yet to be built. `model.compile_metrics` will be empty until you train or evaluate the model.\n",
      "-36.66666793823242\n",
      "WARNING:tensorflow:Compiled the loaded model, but the compiled metrics have yet to be built. `model.compile_metrics` will be empty until you train or evaluate the model.\n"
     ]
    },
    {
     "ename": "",
     "evalue": "",
     "output_type": "error",
     "traceback": [
      "\u001b[1;31mCannot execute code, session has been disposed. Please try restarting the Kernel."
     ]
    },
    {
     "ename": "",
     "evalue": "",
     "output_type": "error",
     "traceback": [
      "\u001b[1;31mThe Kernel crashed while executing code in the the current cell or a previous cell. Please review the code in the cell(s) to identify a possible cause of the failure. Click <a href='https://aka.ms/vscodeJupyterKernelCrash'>here</a> for more info. View Jupyter <a href='command:jupyter.viewOutput'>log</a> for further details."
     ]
    }
   ],
   "source": [
    "for _ in range(20):\n",
    "    observations = env.reset()\n",
    "    observations = observations.reshape(6,1,64)\n",
    "    rewards = np.zeros(6)\n",
    "    done = [False]\n",
    "    while not all(done):\n",
    "        actions = les_agents.predict(observations)\n",
    "        observations, reward, done, info = env.step(actions)\n",
    "        observations = observations.reshape(6,1,64)  \n",
    "        rewards += reward\n",
    "        if all(done):\n",
    "            break\n",
    "    print(np.mean(rewards))\n",
    "    les_agents.train(rewards)\n",
    "    "
   ]
  },
  {
   "cell_type": "code",
   "execution_count": null,
   "metadata": {},
   "outputs": [],
   "source": [
    "rewards"
   ]
  },
  {
   "cell_type": "code",
   "execution_count": null,
   "metadata": {},
   "outputs": [],
   "source": [
    "step_return"
   ]
  }
 ],
 "metadata": {
  "kernelspec": {
   "display_name": "Python 3 (ipykernel)",
   "language": "python",
   "name": "python3"
  },
  "language_info": {
   "codemirror_mode": {
    "name": "ipython",
    "version": 3
   },
   "file_extension": ".py",
   "mimetype": "text/x-python",
   "name": "python",
   "nbconvert_exporter": "python",
   "pygments_lexer": "ipython3",
   "version": "3.10.6"
  },
  "toc": {
   "base_numbering": 1,
   "nav_menu": {},
   "number_sections": true,
   "sideBar": true,
   "skip_h1_title": false,
   "title_cell": "Table of Contents",
   "title_sidebar": "Contents",
   "toc_cell": false,
   "toc_position": {},
   "toc_section_display": true,
   "toc_window_display": false
  }
 },
 "nbformat": 4,
 "nbformat_minor": 2
}
