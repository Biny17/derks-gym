{
 "cells": [
  {
   "cell_type": "code",
   "execution_count": 1,
   "metadata": {},
   "outputs": [
    {
     "name": "stderr",
     "output_type": "stream",
     "text": [
      "2023-07-11 21:30:38.653457: I tensorflow/tsl/cuda/cudart_stub.cc:28] Could not find cuda drivers on your machine, GPU will not be used.\n",
      "2023-07-11 21:30:38.677799: I tensorflow/tsl/cuda/cudart_stub.cc:28] Could not find cuda drivers on your machine, GPU will not be used.\n",
      "2023-07-11 21:30:38.678343: I tensorflow/core/platform/cpu_feature_guard.cc:182] This TensorFlow binary is optimized to use available CPU instructions in performance-critical operations.\n",
      "To enable the following instructions: AVX2 FMA, in other operations, rebuild TensorFlow with the appropriate compiler flags.\n",
      "2023-07-11 21:30:39.363480: W tensorflow/compiler/tf2tensorrt/utils/py_utils.cc:38] TF-TRT Warning: Could not find TensorRT\n"
     ]
    }
   ],
   "source": [
    "from tensorflow import keras\n",
    "from tensorflow.keras import Sequential, layers\n",
    "import numpy as np\n",
    "from gym_derk.envs import DerkEnv\n",
    "import nest_asyncio\n",
    "\n",
    "nest_asyncio.apply()\n",
    "from src.environments import EnvSix"
   ]
  },
  {
   "cell_type": "code",
   "execution_count": 2,
   "metadata": {},
   "outputs": [],
   "source": [
    "class HardcodedAgent:\n",
    "    def __init__(self):\n",
    "        self.focus_enemy = False\n",
    "\n",
    "    def select_action(self, observation):\n",
    "        action = [0, 0, 0, 0, 0]  # Initialize all actions to 0\n",
    "\n",
    "        # Pre-programmed actions\n",
    "        if self.focus_enemy:\n",
    "            action[gym_derk.ActionKeys.ChangeFocus] = 4  # Focus enemy statue\n",
    "        else:\n",
    "            action[gym_derk.ActionKeys.ChangeFocus] = 1  # Focus home statue\n",
    "\n",
    "        # Toggle between focusing enemy and home statue\n",
    "        self.focus_enemy = not self.focus_enemy\n",
    "\n",
    "        return action"
   ]
  },
  {
   "cell_type": "code",
   "execution_count": null,
   "metadata": {},
   "outputs": [],
   "source": [
    "class HardcodedAgent:\n",
    "    def __init__(self):\n",
    "        self.focus_enemy = False\n",
    "\n",
    "    def select_action(self, observation):\n",
    "        action = [0, 0, 0, 0, 0]  # Initialize all actions to 0\n",
    "\n",
    "        # Pre-programmed actions\n",
    "        if self.focus_enemy:\n",
    "            action[gym_derk.ActionKeys.ChangeFocus] = 4  # Focus enemy statue or enemies\n",
    "        else:\n",
    "            action[gym_derk.ActionKeys.ChangeFocus] = 5  # Focus enemy\n",
    "\n",
    "        if observation[1] > 0.5:\n",
    "            action[gym_derk.ActionKeys.MoveX] = 1  # Move forward\n",
    "        else:\n",
    "            action[gym_derk.ActionKeys.MoveX] = -1  # Move backward\n",
    "\n",
    "        if observation[2] < -0.5:\n",
    "            action[gym_derk.ActionKeys.Rotate] = 1  # Turn right\n",
    "        else:\n",
    "            action[gym_derk.ActionKeys.Rotate] = -1  # Turn left\n",
    "\n",
    "        # Toggle between focusing enemy statue or enemies\n",
    "        self.focus_enemy = not self.focus_enemy\n",
    "\n",
    "        return action\n",
    "\n"
   ]
  },
  {
   "cell_type": "code",
   "execution_count": null,
   "metadata": {},
   "outputs": [],
   "source": [
    "class HardcodedAgent:\n",
    "    def __init__(self):\n",
    "        self.focus_enemy = False\n",
    "        self.current_slot = 0\n",
    "        self.abilities = ['Ability1', 'Ability2', 'Ability3']  # Define the available abilities\n",
    "\n",
    "    def select_action(self, observation):\n",
    "        action = [0, 0, 0, 0, 0]  # Initialize all actions to 0\n",
    "\n",
    "        # Pre-programmed actions\n",
    "        if self.focus_enemy:\n",
    "            action[gym_derk.ActionKeys.ChangeFocus] = 4  # Focus enemy statue or enemies\n",
    "        else:\n",
    "            action[gym_derk.ActionKeys.ChangeFocus] = 5  # Focus enemy\n",
    "\n",
    "        if observation[1] > 0.5:\n",
    "            action[gym_derk.ActionKeys.MoveX] = 1  # Move forward\n",
    "        else:\n",
    "            action[gym_derk.ActionKeys.MoveX] = -1  # Move backward\n",
    "\n",
    "        if observation[2] < -0.5:\n",
    "            action[gym_derk.ActionKeys.Rotate] = 1  # Turn right\n",
    "        else:\n",
    "            action[gym_derk.ActionKeys.Rotate] = -1  # Turn left\n",
    "\n",
    "        # Change the casting slot and select the ability\n",
    "        self.current_slot = (self.current_slot + 1) % 3\n",
    "        ability = self.abilities[self.current_slot]\n",
    "        action[gym_derk.ActionKeys.CastingSlot] = self.current_slot + 1  # Set the casting slot\n",
    "        action[gym_derk.ActionKeys.Ability] = ability  # Set the selected ability\n",
    "\n",
    "        # Toggle between focusing enemy statue or enemies\n",
    "        self.focus_enemy = not self.focus_enemy\n",
    "\n",
    "        return action\n"
   ]
  },
  {
   "cell_type": "code",
   "execution_count": 3,
   "metadata": {},
   "outputs": [],
   "source": [
    "reward = {\n",
    "    \"damageEnemyStatue\": 4,\n",
    "    \"damageEnemyUnit\": 2,\n",
    "    \"killEnemyStatue\": 4,\n",
    "    \"killEnemyUnit\": 2,\n",
    "    \"healFriendlyStatue\": 1,\n",
    "    \"healTeammatel\": 2,\n",
    "    \"healTeammate2\": 2,\n",
    "    \"timeSpentHomeBase\": 0,\n",
    "    \"timeSpentHomeTerritory\": 0,\n",
    "    \"timeSpentAwayTerritory\": 0,\n",
    "    \"timeSpentAwayBase\": 0,\n",
    "    \"damageTaken\": -1,\n",
    "    \"friendlyFire\": -1,\n",
    "    \"healEnemy\": -1,\n",
    "    \"fallDamageTaken\": -10,\n",
    "    \"statueDamageTaken\": 0,\n",
    "    \"manualBonus\": 0,\n",
    "    \"victory\": 100,\n",
    "    \"loss\": -100,\n",
    "    \"tie\": 0,\n",
    "    \"teamSpirit\": 0.5,\n",
    "    \"timeScaling\": 1,\n",
    "}"
   ]
  },
  {
   "cell_type": "code",
   "execution_count": 4,
   "metadata": {},
   "outputs": [],
   "source": [
    "agent = HardcodedAgent()\n"
   ]
  },
  {
   "cell_type": "code",
   "execution_count": 5,
   "metadata": {},
   "outputs": [
    {
     "ename": "OSError",
     "evalue": "[Errno 98] error while attempting to bind on address ('127.0.0.1', 8788): address already in use",
     "output_type": "error",
     "traceback": [
      "\u001b[0;31m---------------------------------------------------------------------------\u001b[0m",
      "\u001b[0;31mOSError\u001b[0m                                   Traceback (most recent call last)",
      "\u001b[1;32m/home/rsibillot/code/rsibillot/dotfiles/derks-gym-branche-tristan1/derks-gym-branche-tristan/hardcoded.ipynb Cell 5\u001b[0m in \u001b[0;36m1\n\u001b[0;32m----> <a href='vscode-notebook-cell://wsl%2Bubuntu/home/rsibillot/code/rsibillot/dotfiles/derks-gym-branche-tristan1/derks-gym-branche-tristan/hardcoded.ipynb#W5sdnNjb2RlLXJlbW90ZQ%3D%3D?line=0'>1</a>\u001b[0m env \u001b[39m=\u001b[39m DerkEnv(turbo_mode\u001b[39m=\u001b[39;49m\u001b[39mTrue\u001b[39;49;00m, reward_function\u001b[39m=\u001b[39;49mreward)\n",
      "File \u001b[0;32m~/.pyenv/versions/3.10.6/envs/lewagon/lib/python3.10/site-packages/gym_derk/envs/derk_env.py:66\u001b[0m, in \u001b[0;36mDerkEnv.__init__\u001b[0;34m(self, mode, n_arenas, reward_function, turbo_mode, home_team, away_team, session_args, app_args, agent_server_args)\u001b[0m\n\u001b[1;32m     64\u001b[0m \u001b[39mself\u001b[39m\u001b[39m.\u001b[39mlogger \u001b[39m=\u001b[39m logger\u001b[39m.\u001b[39mgetChild(\u001b[39m'\u001b[39m\u001b[39mDerkEnv(\u001b[39m\u001b[39m{}\u001b[39;00m\u001b[39m)\u001b[39m\u001b[39m'\u001b[39m\u001b[39m.\u001b[39mformat(agent_server_args[\u001b[39m'\u001b[39m\u001b[39mport\u001b[39m\u001b[39m'\u001b[39m]))\n\u001b[1;32m     65\u001b[0m \u001b[39mself\u001b[39m\u001b[39m.\u001b[39mserver \u001b[39m=\u001b[39m DerkAgentServer(\u001b[39mself\u001b[39m\u001b[39m.\u001b[39m_handle_session, \u001b[39m*\u001b[39m\u001b[39m*\u001b[39magent_server_args)\n\u001b[0;32m---> 66\u001b[0m asyncio\u001b[39m.\u001b[39;49mget_event_loop()\u001b[39m.\u001b[39;49mrun_until_complete(\u001b[39mself\u001b[39;49m\u001b[39m.\u001b[39;49mserver\u001b[39m.\u001b[39;49mstart())\n\u001b[1;32m     68\u001b[0m \u001b[39mif\u001b[39;00m \u001b[39m'\u001b[39m\u001b[39magent_hosts\u001b[39m\u001b[39m'\u001b[39m \u001b[39mnot\u001b[39;00m \u001b[39min\u001b[39;00m \u001b[39mself\u001b[39m\u001b[39m.\u001b[39msession_args:\n\u001b[1;32m     69\u001b[0m   \u001b[39mif\u001b[39;00m \u001b[39mself\u001b[39m\u001b[39m.\u001b[39mmode \u001b[39m==\u001b[39m \u001b[39m'\u001b[39m\u001b[39mconnected\u001b[39m\u001b[39m'\u001b[39m:\n",
      "File \u001b[0;32m~/.pyenv/versions/3.10.6/envs/lewagon/lib/python3.10/site-packages/nest_asyncio.py:90\u001b[0m, in \u001b[0;36m_patch_loop.<locals>.run_until_complete\u001b[0;34m(self, future)\u001b[0m\n\u001b[1;32m     87\u001b[0m \u001b[39mif\u001b[39;00m \u001b[39mnot\u001b[39;00m f\u001b[39m.\u001b[39mdone():\n\u001b[1;32m     88\u001b[0m     \u001b[39mraise\u001b[39;00m \u001b[39mRuntimeError\u001b[39;00m(\n\u001b[1;32m     89\u001b[0m         \u001b[39m'\u001b[39m\u001b[39mEvent loop stopped before Future completed.\u001b[39m\u001b[39m'\u001b[39m)\n\u001b[0;32m---> 90\u001b[0m \u001b[39mreturn\u001b[39;00m f\u001b[39m.\u001b[39;49mresult()\n",
      "File \u001b[0;32m~/.pyenv/versions/3.10.6/lib/python3.10/asyncio/futures.py:201\u001b[0m, in \u001b[0;36mFuture.result\u001b[0;34m(self)\u001b[0m\n\u001b[1;32m    199\u001b[0m \u001b[39mself\u001b[39m\u001b[39m.\u001b[39m__log_traceback \u001b[39m=\u001b[39m \u001b[39mFalse\u001b[39;00m\n\u001b[1;32m    200\u001b[0m \u001b[39mif\u001b[39;00m \u001b[39mself\u001b[39m\u001b[39m.\u001b[39m_exception \u001b[39mis\u001b[39;00m \u001b[39mnot\u001b[39;00m \u001b[39mNone\u001b[39;00m:\n\u001b[0;32m--> 201\u001b[0m     \u001b[39mraise\u001b[39;00m \u001b[39mself\u001b[39m\u001b[39m.\u001b[39m_exception\u001b[39m.\u001b[39mwith_traceback(\u001b[39mself\u001b[39m\u001b[39m.\u001b[39m_exception_tb)\n\u001b[1;32m    202\u001b[0m \u001b[39mreturn\u001b[39;00m \u001b[39mself\u001b[39m\u001b[39m.\u001b[39m_result\n",
      "File \u001b[0;32m~/.pyenv/versions/3.10.6/lib/python3.10/asyncio/tasks.py:232\u001b[0m, in \u001b[0;36mTask.__step\u001b[0;34m(***failed resolving arguments***)\u001b[0m\n\u001b[1;32m    228\u001b[0m \u001b[39mtry\u001b[39;00m:\n\u001b[1;32m    229\u001b[0m     \u001b[39mif\u001b[39;00m exc \u001b[39mis\u001b[39;00m \u001b[39mNone\u001b[39;00m:\n\u001b[1;32m    230\u001b[0m         \u001b[39m# We use the `send` method directly, because coroutines\u001b[39;00m\n\u001b[1;32m    231\u001b[0m         \u001b[39m# don't have `__iter__` and `__next__` methods.\u001b[39;00m\n\u001b[0;32m--> 232\u001b[0m         result \u001b[39m=\u001b[39m coro\u001b[39m.\u001b[39;49msend(\u001b[39mNone\u001b[39;49;00m)\n\u001b[1;32m    233\u001b[0m     \u001b[39melse\u001b[39;00m:\n\u001b[1;32m    234\u001b[0m         result \u001b[39m=\u001b[39m coro\u001b[39m.\u001b[39mthrow(exc)\n",
      "File \u001b[0;32m~/.pyenv/versions/3.10.6/envs/lewagon/lib/python3.10/site-packages/gym_derk/derk_server.py:148\u001b[0m, in \u001b[0;36mDerkAgentServer.start\u001b[0;34m(self)\u001b[0m\n\u001b[1;32m    146\u001b[0m \u001b[39m\"\"\"Start the server\"\"\"\u001b[39;00m\n\u001b[1;32m    147\u001b[0m start_server \u001b[39m=\u001b[39m websockets\u001b[39m.\u001b[39mserve(\u001b[39mself\u001b[39m\u001b[39m.\u001b[39m_handle_websocket, \u001b[39mself\u001b[39m\u001b[39m.\u001b[39mhost, \u001b[39mself\u001b[39m\u001b[39m.\u001b[39mport, max_size\u001b[39m=\u001b[39m\u001b[39mNone\u001b[39;00m)\n\u001b[0;32m--> 148\u001b[0m \u001b[39mself\u001b[39m\u001b[39m.\u001b[39mwebsocket_server \u001b[39m=\u001b[39m \u001b[39mawait\u001b[39;00m start_server\n\u001b[1;32m    149\u001b[0m \u001b[39mself\u001b[39m\u001b[39m.\u001b[39mlogger\u001b[39m.\u001b[39minfo(\u001b[39m'\u001b[39m\u001b[39mServing on ws://\u001b[39m\u001b[39m'\u001b[39m \u001b[39m+\u001b[39m \u001b[39mself\u001b[39m\u001b[39m.\u001b[39mhost \u001b[39m+\u001b[39m \u001b[39m'\u001b[39m\u001b[39m:\u001b[39m\u001b[39m'\u001b[39m \u001b[39m+\u001b[39m \u001b[39mstr\u001b[39m(\u001b[39mself\u001b[39m\u001b[39m.\u001b[39mport))\n",
      "File \u001b[0;32m~/.pyenv/versions/3.10.6/envs/lewagon/lib/python3.10/site-packages/websockets/legacy/server.py:1117\u001b[0m, in \u001b[0;36mServe.__await_impl__\u001b[0;34m(self)\u001b[0m\n\u001b[1;32m   1116\u001b[0m \u001b[39masync\u001b[39;00m \u001b[39mdef\u001b[39;00m \u001b[39m__await_impl__\u001b[39m(\u001b[39mself\u001b[39m) \u001b[39m-\u001b[39m\u001b[39m>\u001b[39m WebSocketServer:\n\u001b[0;32m-> 1117\u001b[0m     server \u001b[39m=\u001b[39m \u001b[39mawait\u001b[39;00m \u001b[39mself\u001b[39m\u001b[39m.\u001b[39m_create_server()\n\u001b[1;32m   1118\u001b[0m     \u001b[39mself\u001b[39m\u001b[39m.\u001b[39mws_server\u001b[39m.\u001b[39mwrap(server)\n\u001b[1;32m   1119\u001b[0m     \u001b[39mreturn\u001b[39;00m \u001b[39mself\u001b[39m\u001b[39m.\u001b[39mws_server\n",
      "File \u001b[0;32m~/.pyenv/versions/3.10.6/lib/python3.10/asyncio/base_events.py:1505\u001b[0m, in \u001b[0;36mBaseEventLoop.create_server\u001b[0;34m(self, protocol_factory, host, port, family, flags, sock, backlog, ssl, reuse_address, reuse_port, ssl_handshake_timeout, start_serving)\u001b[0m\n\u001b[1;32m   1503\u001b[0m             sock\u001b[39m.\u001b[39mbind(sa)\n\u001b[1;32m   1504\u001b[0m         \u001b[39mexcept\u001b[39;00m \u001b[39mOSError\u001b[39;00m \u001b[39mas\u001b[39;00m err:\n\u001b[0;32m-> 1505\u001b[0m             \u001b[39mraise\u001b[39;00m \u001b[39mOSError\u001b[39;00m(err\u001b[39m.\u001b[39merrno, \u001b[39m'\u001b[39m\u001b[39merror while attempting \u001b[39m\u001b[39m'\u001b[39m\n\u001b[1;32m   1506\u001b[0m                           \u001b[39m'\u001b[39m\u001b[39mto bind on address \u001b[39m\u001b[39m%r\u001b[39;00m\u001b[39m: \u001b[39m\u001b[39m%s\u001b[39;00m\u001b[39m'\u001b[39m\n\u001b[1;32m   1507\u001b[0m                           \u001b[39m%\u001b[39m (sa, err\u001b[39m.\u001b[39mstrerror\u001b[39m.\u001b[39mlower())) \u001b[39mfrom\u001b[39;00m \u001b[39mNone\u001b[39m\n\u001b[1;32m   1508\u001b[0m     completed \u001b[39m=\u001b[39m \u001b[39mTrue\u001b[39;00m\n\u001b[1;32m   1509\u001b[0m \u001b[39mfinally\u001b[39;00m:\n",
      "\u001b[0;31mOSError\u001b[0m: [Errno 98] error while attempting to bind on address ('127.0.0.1', 8788): address already in use"
     ]
    }
   ],
   "source": [
    "env = DerkEnv(turbo_mode=True, reward_function=reward)\n"
   ]
  },
  {
   "cell_type": "code",
   "execution_count": 6,
   "metadata": {},
   "outputs": [
    {
     "ename": "NameError",
     "evalue": "name 'env' is not defined",
     "output_type": "error",
     "traceback": [
      "\u001b[0;31m---------------------------------------------------------------------------\u001b[0m",
      "\u001b[0;31mNameError\u001b[0m                                 Traceback (most recent call last)",
      "\u001b[1;32m/home/rsibillot/code/rsibillot/dotfiles/derks-gym-branche-tristan1/derks-gym-branche-tristan/hardcoded.ipynb Cell 6\u001b[0m in \u001b[0;36m2\n\u001b[1;32m      <a href='vscode-notebook-cell://wsl%2Bubuntu/home/rsibillot/code/rsibillot/dotfiles/derks-gym-branche-tristan1/derks-gym-branche-tristan/hardcoded.ipynb#W6sdnNjb2RlLXJlbW90ZQ%3D%3D?line=0'>1</a>\u001b[0m \u001b[39mfor\u001b[39;00m _ \u001b[39min\u001b[39;00m \u001b[39mrange\u001b[39m(\u001b[39m20\u001b[39m):\n\u001b[0;32m----> <a href='vscode-notebook-cell://wsl%2Bubuntu/home/rsibillot/code/rsibillot/dotfiles/derks-gym-branche-tristan1/derks-gym-branche-tristan/hardcoded.ipynb#W6sdnNjb2RlLXJlbW90ZQ%3D%3D?line=1'>2</a>\u001b[0m     observation \u001b[39m=\u001b[39m env\u001b[39m.\u001b[39mreset()\n\u001b[1;32m      <a href='vscode-notebook-cell://wsl%2Bubuntu/home/rsibillot/code/rsibillot/dotfiles/derks-gym-branche-tristan1/derks-gym-branche-tristan/hardcoded.ipynb#W6sdnNjb2RlLXJlbW90ZQ%3D%3D?line=2'>3</a>\u001b[0m     done \u001b[39m=\u001b[39m \u001b[39mFalse\u001b[39;00m\n\u001b[1;32m      <a href='vscode-notebook-cell://wsl%2Bubuntu/home/rsibillot/code/rsibillot/dotfiles/derks-gym-branche-tristan1/derks-gym-branche-tristan/hardcoded.ipynb#W6sdnNjb2RlLXJlbW90ZQ%3D%3D?line=3'>4</a>\u001b[0m     total_reward \u001b[39m=\u001b[39m \u001b[39m0\u001b[39m\n",
      "\u001b[0;31mNameError\u001b[0m: name 'env' is not defined"
     ]
    }
   ],
   "source": [
    "for _ in range(20):\n",
    "    observation = env.reset()\n",
    "    done = False\n",
    "    total_reward = 0\n",
    "\n",
    "    while not done:\n",
    "        action = agent.select_action(observation)\n",
    "        observation, reward, done, info = env.step(action)\n",
    "        total_reward += reward\n",
    "\n",
    "    print(\"Total Reward:\", total_reward)"
   ]
  }
 ],
 "metadata": {
  "kernelspec": {
   "display_name": "lewagon",
   "language": "python",
   "name": "python3"
  },
  "language_info": {
   "codemirror_mode": {
    "name": "ipython",
    "version": 3
   },
   "file_extension": ".py",
   "mimetype": "text/x-python",
   "name": "python",
   "nbconvert_exporter": "python",
   "pygments_lexer": "ipython3",
   "version": "3.10.6"
  },
  "orig_nbformat": 4
 },
 "nbformat": 4,
 "nbformat_minor": 2
}
