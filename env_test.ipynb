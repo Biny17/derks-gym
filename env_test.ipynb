{
 "cells": [
  {
   "cell_type": "code",
   "execution_count": 92,
   "metadata": {},
   "outputs": [],
   "source": [
    "import nest_asyncio\n",
    "nest_asyncio.apply()\n",
    "from tensorflow.keras import layers\n",
    "import tensorflow as tf\n",
    "import numpy as np\n",
    "from src.environments import EnvSix\n",
    "from tensorflow import keras\n",
    "from tensorflow.keras import Sequential, layers\n"
   ]
  },
  {
   "cell_type": "code",
   "execution_count": null,
   "metadata": {},
   "outputs": [],
   "source": [
    "%load_ext autoreload\n",
    "%autoreload 2"
   ]
  },
  {
   "cell_type": "code",
   "execution_count": 58,
   "metadata": {},
   "outputs": [],
   "source": [
    "class Agents:\n",
    "    def __init__(self, n_arenas=1):\n",
    "        self.n_arenas = n_arenas\n",
    "        self.generation = 0\n",
    "        self.models = [self.initialize_model() for _ in range(6)]\n",
    "\n",
    "    def initialize_model(self):\n",
    "        model = Sequential()\n",
    "        model.add(layers.Dense(64, input_dim=64, activation='relu'))\n",
    "        model.add(layers.Dense(30, activation='relu'))\n",
    "        model.add(layers.Dense(20, activation='relu'))\n",
    "        model.add(layers.Dense(15, activation='tanh'))\n",
    "        return model\n",
    "\n",
    "    def predict(self, obs):\n",
    "        return np.array([self.models[i].predict(x=obs[i], verbose=0) for i in range(6)])\n",
    "\n",
    "    def add_noise_to_weights(self, model):\n",
    "        weights = model.get_weights()\n",
    "        noise = []\n",
    "        for weight in weights:\n",
    "            noise.append(np.random.normal(0, 1, size=weight.shape))\n",
    "        noisy_weights = [w + n for w, n in zip(weights, noise)]\n",
    "        model.set_weights(noisy_weights)\n",
    "        return model\n",
    "\n",
    "    def train(self, rewards):\n",
    "        self.save_model(self.models[np.argmax(rewards)], path=f\"model{np.max(rewards)}.h5\")\n",
    "        self.mutate(np.argmax(rewards))\n",
    "    \n",
    "    def mutate(self, best_model_index):\n",
    "        self.generation += 1\n",
    "        best_model = self.models[best_model_index]\n",
    "        new_models = []\n",
    "        # create 6 copies of the best model\n",
    "        for _ in range(6):\n",
    "            model = keras.models.clone_model(best_model)\n",
    "            model = self.add_noise_to_weights(best_model)\n",
    "            new_models.append(model)\n",
    "        self.models = new_models\n",
    "        \n",
    "    def save_model(self, model, path):\n",
    "        model.save(path)"
   ]
  },
  {
   "cell_type": "code",
   "execution_count": 98,
   "metadata": {},
   "outputs": [],
   "source": [
    "reward= {\n",
    "    \"damageEnemyStatue\": 4,\n",
    "    \"damageEnemyUnit\": 2,\n",
    "    \"killEnemyStatue\": 4,\n",
    "    \"killEnemyUnit\": 2,\n",
    "    \"healFriendlyStatue\": 1,\n",
    "    \"healTeammatel\": 2,\n",
    "    \"healTeammate2\": 2,\n",
    "    \"timeSpentHomeBase\": 0,\n",
    "    \"timeSpentHomeTerritory\": 0,\n",
    "    \"timeSpentAwayTerritory\": 0,\n",
    "    \"timeSpentAwayBase\": 0,\n",
    "    \"damageTaken\": -1,\n",
    "    \"friendlyFire\": -1,\n",
    "    \"healEnemy\": -1,\n",
    "    \"fallDamageTaken\": -10,\n",
    "    \"statueDamageTaken\": 0,\n",
    "    \"manualBonus\": 0,\n",
    "    \"victory\": 100,\n",
    "    \"loss\": -100,\n",
    "    \"tie\": 0,\n",
    "    \"teamSpirit\": 0.5,\n",
    "    \"timeScaling\": 1,\n",
    "}\n",
    "args = {\"home_team\":[\n",
    "    {\n",
    "        'primaryColor': '#00ff00',\n",
    "        'slots': ['Blaster', 'ParalyzingDart', 'HeliumBubblegum']\n",
    "    },\n",
    "    {\n",
    "        'primaryColor': '#00ff00',\n",
    "        'slots': ['Blaster', 'ParalyzingDart', 'HeliumBubblegum']\n",
    "    },\n",
    "    {\n",
    "        'primaryColor': '#00ff00',\n",
    "        'slots': ['Pistol', 'HealingGland', 'FrogLegs']\n",
    "    },\n",
    "],\n",
    "\"away_team\":[\n",
    "            {\n",
    "                'primaryColor': '#00ff00',\n",
    "                'slots': ['Pistol', 'HealingGland', 'FrogLegs']\n",
    "            },\n",
    "            {\n",
    "                'primaryColor': '#00ff00',\n",
    "                'slots':\n",
    "                ['Blaster', 'ParalyzingDart', 'HeliumBubblegum']\n",
    "            },\n",
    "            {\n",
    "                'primaryColor': '#00ff00',\n",
    "                'slots': ['Pistol', 'HealingGland', 'FrogLegs']\n",
    "            },\n",
    "        ]}\n",
    "\n",
    "\n",
    "try:\n",
    "    env.close()\n",
    "finally:\n",
    "    env = EnvSix(reward_function = reward, turbo_mode=True, **args, n_arenas=5)"
   ]
  },
  {
   "cell_type": "code",
   "execution_count": 99,
   "metadata": {},
   "outputs": [],
   "source": [
    "a = env.reset()"
   ]
  },
  {
   "cell_type": "code",
   "execution_count": 100,
   "metadata": {},
   "outputs": [
    {
     "data": {
      "text/plain": [
       "(5, 6, 64)"
      ]
     },
     "execution_count": 100,
     "metadata": {},
     "output_type": "execute_result"
    }
   ],
   "source": [
    "a.shape"
   ]
  },
  {
   "cell_type": "code",
   "execution_count": 102,
   "metadata": {},
   "outputs": [],
   "source": [
    "action = np.array([[env.space_action.sample() for i in range(6)] for j in range(env.n_arenas)])"
   ]
  },
  {
   "cell_type": "code",
   "execution_count": 103,
   "metadata": {},
   "outputs": [],
   "source": [
    "b = env.step(action)"
   ]
  },
  {
   "cell_type": "code",
   "execution_count": 104,
   "metadata": {},
   "outputs": [
    {
     "data": {
      "text/plain": [
       "(6, 64)"
      ]
     },
     "execution_count": 104,
     "metadata": {},
     "output_type": "execute_result"
    }
   ],
   "source": [
    "b[0][0].shape"
   ]
  },
  {
   "cell_type": "code",
   "execution_count": 52,
   "metadata": {},
   "outputs": [
    {
     "data": {
      "text/plain": [
       "(2, 6, 15)"
      ]
     },
     "execution_count": 52,
     "metadata": {},
     "output_type": "execute_result"
    }
   ],
   "source": [
    "action.shape"
   ]
  },
  {
   "cell_type": "code",
   "execution_count": null,
   "metadata": {},
   "outputs": [],
   "source": []
  }
 ],
 "metadata": {
  "kernelspec": {
   "display_name": "lewagon",
   "language": "python",
   "name": "python3"
  },
  "language_info": {
   "codemirror_mode": {
    "name": "ipython",
    "version": 3
   },
   "file_extension": ".py",
   "mimetype": "text/x-python",
   "name": "python",
   "nbconvert_exporter": "python",
   "pygments_lexer": "ipython3",
   "version": "3.10.6"
  },
  "orig_nbformat": 4
 },
 "nbformat": 4,
 "nbformat_minor": 2
}
