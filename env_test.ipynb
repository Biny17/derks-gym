{
 "cells": [
  {
   "cell_type": "code",
   "execution_count": 1,
   "metadata": {},
   "outputs": [
    {
     "name": "stderr",
     "output_type": "stream",
     "text": [
      "2023-07-01 09:22:36.656514: I tensorflow/core/platform/cpu_feature_guard.cc:182] This TensorFlow binary is optimized to use available CPU instructions in performance-critical operations.\n",
      "To enable the following instructions: AVX2 FMA, in other operations, rebuild TensorFlow with the appropriate compiler flags.\n"
     ]
    }
   ],
   "source": [
    "from src import environments\n",
    "import nest_asyncio\n",
    "nest_asyncio.apply()\n",
    "\n",
    "from gym_derk.envs import DerkEnv\n",
    "import gym_derk\n",
    "from tensorflow.keras import layers\n",
    "from tensorflow import keras\n",
    "import numpy as np\n",
    "from src.environments import EnvTensorOne\n",
    "import tf_agents"
   ]
  },
  {
   "cell_type": "code",
   "execution_count": 3,
   "metadata": {},
   "outputs": [
    {
     "name": "stdout",
     "output_type": "stream",
     "text": [
      "The autoreload extension is already loaded. To reload it, use:\n",
      "  %reload_ext autoreload\n"
     ]
    }
   ],
   "source": [
    "%load_ext autoreload\n",
    "%autoreload 2"
   ]
  },
  {
   "cell_type": "code",
   "execution_count": 2,
   "metadata": {},
   "outputs": [],
   "source": [
    "env = EnvTensorOne()"
   ]
  },
  {
   "cell_type": "code",
   "execution_count": 41,
   "metadata": {},
   "outputs": [],
   "source": [
    "env.close()"
   ]
  },
  {
   "cell_type": "code",
   "execution_count": 4,
   "metadata": {},
   "outputs": [],
   "source": [
    "tf_env = tf_agents.environments.tf_py_environment.TFPyEnvironment(env)"
   ]
  },
  {
   "cell_type": "code",
   "execution_count": 46,
   "metadata": {},
   "outputs": [],
   "source": [
    "env.reset()\n",
    "action = np.random.rand(15)\n",
    "a = env.step(action)"
   ]
  },
  {
   "cell_type": "code",
   "execution_count": null,
   "metadata": {},
   "outputs": [],
   "source": [
    "a"
   ]
  },
  {
   "cell_type": "code",
   "execution_count": 4,
   "metadata": {},
   "outputs": [],
   "source": [
    "from tf_agents.environments import utils\n",
    "from tf_agents.environments import tf_py_environment"
   ]
  },
  {
   "cell_type": "code",
   "execution_count": 5,
   "metadata": {},
   "outputs": [
    {
     "ename": "ValueError",
     "evalue": "Given `time_step`: TimeStep(\n{'discount': array(1., dtype=float32),\n 'observation': array([ 1.        ,  0.        ,  0.36897796,  0.56313133,  0.09551312,\n       -0.45030487,  0.07049811, -0.6402546 ,  0.86756545, -0.52053714,\n        0.25701886, -0.57274437,  2.        ,  0.        ,  0.15074064,\n       -0.44643545,  1.        , -0.4636289 , -0.99854386,  0.        ,\n        0.22645962,  1.        ,  1.        ,  0.        ,  0.        ,\n        0.        ,  0.        ,  0.        , -0.02238032, -0.08336428,\n        0.        ,  0.        ,  0.        ,  0.        ,  0.        ,\n        0.        ,  0.        ,  0.        ,  1.        ,  0.        ,\n        0.        ,  1.        ,  1.        ,  0.        ,  0.        ,\n        0.        ,  0.        ,  0.        ,  0.        ,  0.        ,\n        0.        ,  1.        ,  0.        ,  0.        ,  0.        ,\n        0.        ,  0.        ,  0.        ,  1.        ,  0.        ,\n        0.        ,  0.        ,  0.        ,  0.        ], dtype=float32),\n 'reward': array(0., dtype=float32),\n 'step_type': array(1, dtype=int32)}) does not match expected `time_step_spec`: TimeStep(\n{'discount': BoundedArraySpec(shape=(), dtype=dtype('float32'), name='discount', minimum=0.0, maximum=1.0),\n 'observation': BoundedArraySpec(shape=(64,), dtype=dtype('float32'), name='observation', minimum=-1.0, maximum=1.0),\n 'reward': BoundedArraySpec(shape=(), dtype=dtype('float32'), name='reward', minimum=0.0, maximum=3.4028234663852886e+38),\n 'step_type': ArraySpec(shape=(), dtype=dtype('int32'), name='step_type')})",
     "output_type": "error",
     "traceback": [
      "\u001b[0;31m---------------------------------------------------------------------------\u001b[0m",
      "\u001b[0;31mValueError\u001b[0m                                Traceback (most recent call last)",
      "\u001b[1;32m/home/trist/code/Biny17/derks-gym/env_test.ipynb Cell 9\u001b[0m in \u001b[0;36m1\n\u001b[0;32m----> <a href='vscode-notebook-cell://wsl%2Bubuntu/home/trist/code/Biny17/derks-gym/env_test.ipynb#X11sdnNjb2RlLXJlbW90ZQ%3D%3D?line=0'>1</a>\u001b[0m utils\u001b[39m.\u001b[39;49mvalidate_py_environment(env, episodes\u001b[39m=\u001b[39;49m\u001b[39m2\u001b[39;49m)\n",
      "File \u001b[0;32m~/.pyenv/versions/3.10.6/envs/lewagon/lib/python3.10/site-packages/tf_agents/environments/utils.py:78\u001b[0m, in \u001b[0;36mvalidate_py_environment\u001b[0;34m(environment, episodes, observation_and_action_constraint_splitter)\u001b[0m\n\u001b[1;32m     76\u001b[0m \u001b[39mwhile\u001b[39;00m episode_count \u001b[39m<\u001b[39m episodes:\n\u001b[1;32m     77\u001b[0m   \u001b[39mif\u001b[39;00m \u001b[39mnot\u001b[39;00m array_spec\u001b[39m.\u001b[39mcheck_arrays_nest(time_step, batched_time_step_spec):\n\u001b[0;32m---> 78\u001b[0m     \u001b[39mraise\u001b[39;00m \u001b[39mValueError\u001b[39;00m(\n\u001b[1;32m     79\u001b[0m         \u001b[39m'\u001b[39m\u001b[39mGiven `time_step`: \u001b[39m\u001b[39m%r\u001b[39;00m\u001b[39m does not match expected \u001b[39m\u001b[39m'\u001b[39m\n\u001b[1;32m     80\u001b[0m         \u001b[39m'\u001b[39m\u001b[39m`time_step_spec`: \u001b[39m\u001b[39m%r\u001b[39;00m\u001b[39m'\u001b[39m \u001b[39m%\u001b[39m (time_step, batched_time_step_spec))\n\u001b[1;32m     82\u001b[0m   action \u001b[39m=\u001b[39m random_policy\u001b[39m.\u001b[39maction(time_step)\u001b[39m.\u001b[39maction\n\u001b[1;32m     83\u001b[0m   time_step \u001b[39m=\u001b[39m environment\u001b[39m.\u001b[39mstep(action)\n",
      "\u001b[0;31mValueError\u001b[0m: Given `time_step`: TimeStep(\n{'discount': array(1., dtype=float32),\n 'observation': array([ 1.        ,  0.        ,  0.36897796,  0.56313133,  0.09551312,\n       -0.45030487,  0.07049811, -0.6402546 ,  0.86756545, -0.52053714,\n        0.25701886, -0.57274437,  2.        ,  0.        ,  0.15074064,\n       -0.44643545,  1.        , -0.4636289 , -0.99854386,  0.        ,\n        0.22645962,  1.        ,  1.        ,  0.        ,  0.        ,\n        0.        ,  0.        ,  0.        , -0.02238032, -0.08336428,\n        0.        ,  0.        ,  0.        ,  0.        ,  0.        ,\n        0.        ,  0.        ,  0.        ,  1.        ,  0.        ,\n        0.        ,  1.        ,  1.        ,  0.        ,  0.        ,\n        0.        ,  0.        ,  0.        ,  0.        ,  0.        ,\n        0.        ,  1.        ,  0.        ,  0.        ,  0.        ,\n        0.        ,  0.        ,  0.        ,  1.        ,  0.        ,\n        0.        ,  0.        ,  0.        ,  0.        ], dtype=float32),\n 'reward': array(0., dtype=float32),\n 'step_type': array(1, dtype=int32)}) does not match expected `time_step_spec`: TimeStep(\n{'discount': BoundedArraySpec(shape=(), dtype=dtype('float32'), name='discount', minimum=0.0, maximum=1.0),\n 'observation': BoundedArraySpec(shape=(64,), dtype=dtype('float32'), name='observation', minimum=-1.0, maximum=1.0),\n 'reward': BoundedArraySpec(shape=(), dtype=dtype('float32'), name='reward', minimum=0.0, maximum=3.4028234663852886e+38),\n 'step_type': ArraySpec(shape=(), dtype=dtype('int32'), name='step_type')})"
     ]
    }
   ],
   "source": [
    "utils.validate_py_environment(env, episodes=2)"
   ]
  },
  {
   "cell_type": "code",
   "execution_count": null,
   "metadata": {},
   "outputs": [],
   "source": [
    "\n",
    "\n"
   ]
  }
 ],
 "metadata": {
  "kernelspec": {
   "display_name": "lewagon",
   "language": "python",
   "name": "python3"
  },
  "language_info": {
   "codemirror_mode": {
    "name": "ipython",
    "version": 3
   },
   "file_extension": ".py",
   "mimetype": "text/x-python",
   "name": "python",
   "nbconvert_exporter": "python",
   "pygments_lexer": "ipython3",
   "version": "3.10.6"
  },
  "orig_nbformat": 4
 },
 "nbformat": 4,
 "nbformat_minor": 2
}
