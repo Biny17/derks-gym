{
 "cells": [
  {
   "cell_type": "code",
   "execution_count": 1,
   "metadata": {},
   "outputs": [],
   "source": [
    "import nest_asyncio\n",
    "nest_asyncio.apply()\n",
    "\n",
    "from gym_derk.envs import DerkEnv\n",
    "import gym_derk\n"
   ]
  },
  {
   "cell_type": "code",
   "execution_count": 2,
   "metadata": {},
   "outputs": [],
   "source": [
    "env = DerkEnv(turbo_mode=True)\n",
    "observation_n = env.reset()\n"
   ]
  },
  {
   "cell_type": "code",
   "execution_count": 17,
   "metadata": {},
   "outputs": [
    {
     "data": {
      "text/plain": [
       "{'turbo_mode': True,\n",
       " 'agent_hosts': [{'uri': 'ws://127.0.0.1:8788',\n",
       "   'regions': [{'sides': 'both'}]}]}"
      ]
     },
     "execution_count": 17,
     "metadata": {},
     "output_type": "execute_result"
    }
   ],
   "source": [
    "env.session_args"
   ]
  },
  {
   "cell_type": "code",
   "execution_count": 18,
   "metadata": {},
   "outputs": [
    {
     "data": {
      "text/plain": [
       "array([ 1.        ,  1.        ,  0.24904814, -0.8193282 ,  0.16492984,\n",
       "       -0.27432847,  0.31749758, -0.3957422 ,  1.        , -0.0411915 ,\n",
       "        0.8483409 , -0.11142766,  0.67445385, -0.07379556,  0.69724715,\n",
       "        0.01145891,  0.        ,  0.        ,  0.        ,  0.        ,\n",
       "        0.        ,  1.        ,  1.        ,  0.        ,  0.        ,\n",
       "        0.11146338,  0.11146338,  0.11146338, -0.0439153 , -0.13424827,\n",
       "        0.        ,  0.        ,  0.        ,  0.        ,  0.        ,\n",
       "        0.        ,  0.        ,  0.        ,  0.        ,  0.        ,\n",
       "        0.        ,  0.        ,  0.        ,  0.        ,  0.        ,\n",
       "        0.        ,  0.        ,  0.        ,  0.        ,  0.        ,\n",
       "        0.        ,  0.        ,  0.        ,  0.        ,  0.        ,\n",
       "        0.        ,  0.        ,  0.        ,  0.        ,  0.        ,\n",
       "        0.        ,  0.        ,  0.        ,  0.        ], dtype=float32)"
      ]
     },
     "execution_count": 18,
     "metadata": {},
     "output_type": "execute_result"
    }
   ],
   "source": [
    "observation_n[0]"
   ]
  },
  {
   "cell_type": "code",
   "execution_count": 9,
   "metadata": {},
   "outputs": [
    {
     "data": {
      "text/plain": [
       "numpy.ndarray"
      ]
     },
     "execution_count": 9,
     "metadata": {},
     "output_type": "execute_result"
    }
   ],
   "source": [
    "type(observation_n)"
   ]
  },
  {
   "cell_type": "code",
   "execution_count": 11,
   "metadata": {},
   "outputs": [
    {
     "data": {
      "text/plain": [
       "(6, 64)"
      ]
     },
     "execution_count": 11,
     "metadata": {},
     "output_type": "execute_result"
    }
   ],
   "source": [
    "observation_n.shape"
   ]
  },
  {
   "cell_type": "code",
   "execution_count": 80,
   "metadata": {},
   "outputs": [],
   "source": [
    "\n",
    "# Take random actions each step\n",
    "action_n = [env.action_space.sample() for i in range(env.n_agents)]\n",
    "observation_n, reward_n, done_n, info_n = env.step(action_n)\n",
    "\n",
    "if all(done_n):\n",
    "    env.close()"
   ]
  },
  {
   "cell_type": "code",
   "execution_count": 81,
   "metadata": {},
   "outputs": [
    {
     "data": {
      "text/plain": [
       "array([0., 0., 0., 0., 0., 0.], dtype=float32)"
      ]
     },
     "execution_count": 81,
     "metadata": {},
     "output_type": "execute_result"
    }
   ],
   "source": [
    "reward_n"
   ]
  },
  {
   "cell_type": "code",
   "execution_count": 60,
   "metadata": {},
   "outputs": [],
   "source": [
    "env.close()"
   ]
  },
  {
   "cell_type": "code",
   "execution_count": 12,
   "metadata": {},
   "outputs": [],
   "source": [
    "action_n = [env.action_space.sample() for i in range(env.n_agents)]\n"
   ]
  },
  {
   "cell_type": "code",
   "execution_count": 14,
   "metadata": {},
   "outputs": [
    {
     "name": "stdout",
     "output_type": "stream",
     "text": [
      "(array(-0.19715041, dtype=float32), array(0.5924582, dtype=float32), array(0.7039511, dtype=float32), 3, 7)\n"
     ]
    }
   ],
   "source": [
    "print(action_n[0])"
   ]
  },
  {
   "cell_type": "code",
   "execution_count": 15,
   "metadata": {},
   "outputs": [
    {
     "data": {
      "text/plain": [
       "list"
      ]
     },
     "execution_count": 15,
     "metadata": {},
     "output_type": "execute_result"
    }
   ],
   "source": [
    "type(action_n)"
   ]
  },
  {
   "cell_type": "code",
   "execution_count": 3,
   "metadata": {},
   "outputs": [],
   "source": [
    "def select(a):\n",
    "    empty_list = [] \n",
    "    for el in a:\n",
    "        empty_list.append(el)\n"
   ]
  },
  {
   "cell_type": "code",
   "execution_count": 4,
   "metadata": {},
   "outputs": [],
   "source": [
    "select([1,2,3])"
   ]
  },
  {
   "cell_type": "code",
   "execution_count": 4,
   "metadata": {},
   "outputs": [
    {
     "ename": "OSError",
     "evalue": "[Errno 48] error while attempting to bind on address ('127.0.0.1', 8788): address already in use",
     "output_type": "error",
     "traceback": [
      "\u001b[0;31m---------------------------------------------------------------------------\u001b[0m",
      "\u001b[0;31mOSError\u001b[0m                                   Traceback (most recent call last)",
      "\u001b[1;32m/Users/julienfraysse/code/JFFraysse/derks-gym/notebooks/derks-gym.ipynb Cellule 14\u001b[0m in \u001b[0;36m2\n\u001b[1;32m     <a href='vscode-notebook-cell:/Users/julienfraysse/code/JFFraysse/derks-gym/notebooks/derks-gym.ipynb#X16sZmlsZQ%3D%3D?line=16'>17</a>\u001b[0m \u001b[39m# import tf_agents\u001b[39;00m\n\u001b[1;32m     <a href='vscode-notebook-cell:/Users/julienfraysse/code/JFFraysse/derks-gym/notebooks/derks-gym.ipynb#X16sZmlsZQ%3D%3D?line=17'>18</a>\u001b[0m \u001b[39mimport\u001b[39;00m \u001b[39mtensorflow\u001b[39;00m \u001b[39mas\u001b[39;00m \u001b[39mtf\u001b[39;00m\n\u001b[0;32m---> <a href='vscode-notebook-cell:/Users/julienfraysse/code/JFFraysse/derks-gym/notebooks/derks-gym.ipynb#X16sZmlsZQ%3D%3D?line=19'>20</a>\u001b[0m world \u001b[39m=\u001b[39m DerkEnv()\n",
      "File \u001b[0;32m~/.pyenv/versions/3.10.6/envs/lewagon/lib/python3.10/site-packages/gym_derk/envs/derk_env.py:66\u001b[0m, in \u001b[0;36mDerkEnv.__init__\u001b[0;34m(self, mode, n_arenas, reward_function, turbo_mode, home_team, away_team, session_args, app_args, agent_server_args)\u001b[0m\n\u001b[1;32m     64\u001b[0m \u001b[39mself\u001b[39m\u001b[39m.\u001b[39mlogger \u001b[39m=\u001b[39m logger\u001b[39m.\u001b[39mgetChild(\u001b[39m'\u001b[39m\u001b[39mDerkEnv(\u001b[39m\u001b[39m{}\u001b[39;00m\u001b[39m)\u001b[39m\u001b[39m'\u001b[39m\u001b[39m.\u001b[39mformat(agent_server_args[\u001b[39m'\u001b[39m\u001b[39mport\u001b[39m\u001b[39m'\u001b[39m]))\n\u001b[1;32m     65\u001b[0m \u001b[39mself\u001b[39m\u001b[39m.\u001b[39mserver \u001b[39m=\u001b[39m DerkAgentServer(\u001b[39mself\u001b[39m\u001b[39m.\u001b[39m_handle_session, \u001b[39m*\u001b[39m\u001b[39m*\u001b[39magent_server_args)\n\u001b[0;32m---> 66\u001b[0m asyncio\u001b[39m.\u001b[39;49mget_event_loop()\u001b[39m.\u001b[39;49mrun_until_complete(\u001b[39mself\u001b[39;49m\u001b[39m.\u001b[39;49mserver\u001b[39m.\u001b[39;49mstart())\n\u001b[1;32m     68\u001b[0m \u001b[39mif\u001b[39;00m \u001b[39m'\u001b[39m\u001b[39magent_hosts\u001b[39m\u001b[39m'\u001b[39m \u001b[39mnot\u001b[39;00m \u001b[39min\u001b[39;00m \u001b[39mself\u001b[39m\u001b[39m.\u001b[39msession_args:\n\u001b[1;32m     69\u001b[0m   \u001b[39mif\u001b[39;00m \u001b[39mself\u001b[39m\u001b[39m.\u001b[39mmode \u001b[39m==\u001b[39m \u001b[39m'\u001b[39m\u001b[39mconnected\u001b[39m\u001b[39m'\u001b[39m:\n",
      "File \u001b[0;32m~/.pyenv/versions/3.10.6/envs/lewagon/lib/python3.10/site-packages/nest_asyncio.py:90\u001b[0m, in \u001b[0;36m_patch_loop.<locals>.run_until_complete\u001b[0;34m(self, future)\u001b[0m\n\u001b[1;32m     87\u001b[0m \u001b[39mif\u001b[39;00m \u001b[39mnot\u001b[39;00m f\u001b[39m.\u001b[39mdone():\n\u001b[1;32m     88\u001b[0m     \u001b[39mraise\u001b[39;00m \u001b[39mRuntimeError\u001b[39;00m(\n\u001b[1;32m     89\u001b[0m         \u001b[39m'\u001b[39m\u001b[39mEvent loop stopped before Future completed.\u001b[39m\u001b[39m'\u001b[39m)\n\u001b[0;32m---> 90\u001b[0m \u001b[39mreturn\u001b[39;00m f\u001b[39m.\u001b[39;49mresult()\n",
      "File \u001b[0;32m~/.pyenv/versions/3.10.6/lib/python3.10/asyncio/futures.py:201\u001b[0m, in \u001b[0;36mFuture.result\u001b[0;34m(self)\u001b[0m\n\u001b[1;32m    199\u001b[0m \u001b[39mself\u001b[39m\u001b[39m.\u001b[39m__log_traceback \u001b[39m=\u001b[39m \u001b[39mFalse\u001b[39;00m\n\u001b[1;32m    200\u001b[0m \u001b[39mif\u001b[39;00m \u001b[39mself\u001b[39m\u001b[39m.\u001b[39m_exception \u001b[39mis\u001b[39;00m \u001b[39mnot\u001b[39;00m \u001b[39mNone\u001b[39;00m:\n\u001b[0;32m--> 201\u001b[0m     \u001b[39mraise\u001b[39;00m \u001b[39mself\u001b[39m\u001b[39m.\u001b[39m_exception\u001b[39m.\u001b[39mwith_traceback(\u001b[39mself\u001b[39m\u001b[39m.\u001b[39m_exception_tb)\n\u001b[1;32m    202\u001b[0m \u001b[39mreturn\u001b[39;00m \u001b[39mself\u001b[39m\u001b[39m.\u001b[39m_result\n",
      "File \u001b[0;32m~/.pyenv/versions/3.10.6/lib/python3.10/asyncio/tasks.py:232\u001b[0m, in \u001b[0;36mTask.__step\u001b[0;34m(***failed resolving arguments***)\u001b[0m\n\u001b[1;32m    228\u001b[0m \u001b[39mtry\u001b[39;00m:\n\u001b[1;32m    229\u001b[0m     \u001b[39mif\u001b[39;00m exc \u001b[39mis\u001b[39;00m \u001b[39mNone\u001b[39;00m:\n\u001b[1;32m    230\u001b[0m         \u001b[39m# We use the `send` method directly, because coroutines\u001b[39;00m\n\u001b[1;32m    231\u001b[0m         \u001b[39m# don't have `__iter__` and `__next__` methods.\u001b[39;00m\n\u001b[0;32m--> 232\u001b[0m         result \u001b[39m=\u001b[39m coro\u001b[39m.\u001b[39;49msend(\u001b[39mNone\u001b[39;49;00m)\n\u001b[1;32m    233\u001b[0m     \u001b[39melse\u001b[39;00m:\n\u001b[1;32m    234\u001b[0m         result \u001b[39m=\u001b[39m coro\u001b[39m.\u001b[39mthrow(exc)\n",
      "File \u001b[0;32m~/.pyenv/versions/3.10.6/envs/lewagon/lib/python3.10/site-packages/gym_derk/derk_server.py:148\u001b[0m, in \u001b[0;36mDerkAgentServer.start\u001b[0;34m(self)\u001b[0m\n\u001b[1;32m    146\u001b[0m \u001b[39m\"\"\"Start the server\"\"\"\u001b[39;00m\n\u001b[1;32m    147\u001b[0m start_server \u001b[39m=\u001b[39m websockets\u001b[39m.\u001b[39mserve(\u001b[39mself\u001b[39m\u001b[39m.\u001b[39m_handle_websocket, \u001b[39mself\u001b[39m\u001b[39m.\u001b[39mhost, \u001b[39mself\u001b[39m\u001b[39m.\u001b[39mport, max_size\u001b[39m=\u001b[39m\u001b[39mNone\u001b[39;00m)\n\u001b[0;32m--> 148\u001b[0m \u001b[39mself\u001b[39m\u001b[39m.\u001b[39mwebsocket_server \u001b[39m=\u001b[39m \u001b[39mawait\u001b[39;00m start_server\n\u001b[1;32m    149\u001b[0m \u001b[39mself\u001b[39m\u001b[39m.\u001b[39mlogger\u001b[39m.\u001b[39minfo(\u001b[39m'\u001b[39m\u001b[39mServing on ws://\u001b[39m\u001b[39m'\u001b[39m \u001b[39m+\u001b[39m \u001b[39mself\u001b[39m\u001b[39m.\u001b[39mhost \u001b[39m+\u001b[39m \u001b[39m'\u001b[39m\u001b[39m:\u001b[39m\u001b[39m'\u001b[39m \u001b[39m+\u001b[39m \u001b[39mstr\u001b[39m(\u001b[39mself\u001b[39m\u001b[39m.\u001b[39mport))\n",
      "File \u001b[0;32m~/.pyenv/versions/3.10.6/envs/lewagon/lib/python3.10/site-packages/websockets/legacy/server.py:1117\u001b[0m, in \u001b[0;36mServe.__await_impl__\u001b[0;34m(self)\u001b[0m\n\u001b[1;32m   1116\u001b[0m \u001b[39masync\u001b[39;00m \u001b[39mdef\u001b[39;00m \u001b[39m__await_impl__\u001b[39m(\u001b[39mself\u001b[39m) \u001b[39m-\u001b[39m\u001b[39m>\u001b[39m WebSocketServer:\n\u001b[0;32m-> 1117\u001b[0m     server \u001b[39m=\u001b[39m \u001b[39mawait\u001b[39;00m \u001b[39mself\u001b[39m\u001b[39m.\u001b[39m_create_server()\n\u001b[1;32m   1118\u001b[0m     \u001b[39mself\u001b[39m\u001b[39m.\u001b[39mws_server\u001b[39m.\u001b[39mwrap(server)\n\u001b[1;32m   1119\u001b[0m     \u001b[39mreturn\u001b[39;00m \u001b[39mself\u001b[39m\u001b[39m.\u001b[39mws_server\n",
      "File \u001b[0;32m~/.pyenv/versions/3.10.6/lib/python3.10/asyncio/base_events.py:1505\u001b[0m, in \u001b[0;36mBaseEventLoop.create_server\u001b[0;34m(self, protocol_factory, host, port, family, flags, sock, backlog, ssl, reuse_address, reuse_port, ssl_handshake_timeout, start_serving)\u001b[0m\n\u001b[1;32m   1503\u001b[0m             sock\u001b[39m.\u001b[39mbind(sa)\n\u001b[1;32m   1504\u001b[0m         \u001b[39mexcept\u001b[39;00m \u001b[39mOSError\u001b[39;00m \u001b[39mas\u001b[39;00m err:\n\u001b[0;32m-> 1505\u001b[0m             \u001b[39mraise\u001b[39;00m \u001b[39mOSError\u001b[39;00m(err\u001b[39m.\u001b[39merrno, \u001b[39m'\u001b[39m\u001b[39merror while attempting \u001b[39m\u001b[39m'\u001b[39m\n\u001b[1;32m   1506\u001b[0m                           \u001b[39m'\u001b[39m\u001b[39mto bind on address \u001b[39m\u001b[39m%r\u001b[39;00m\u001b[39m: \u001b[39m\u001b[39m%s\u001b[39;00m\u001b[39m'\u001b[39m\n\u001b[1;32m   1507\u001b[0m                           \u001b[39m%\u001b[39m (sa, err\u001b[39m.\u001b[39mstrerror\u001b[39m.\u001b[39mlower())) \u001b[39mfrom\u001b[39;00m \u001b[39mNone\u001b[39m\n\u001b[1;32m   1508\u001b[0m     completed \u001b[39m=\u001b[39m \u001b[39mTrue\u001b[39;00m\n\u001b[1;32m   1509\u001b[0m \u001b[39mfinally\u001b[39;00m:\n",
      "\u001b[0;31mOSError\u001b[0m: [Errno 48] error while attempting to bind on address ('127.0.0.1', 8788): address already in use"
     ]
    }
   ],
   "source": [
    "import nest_asyncio\n",
    "nest_asyncio.apply()\n",
    "from gym_derk.envs import DerkEnv\n",
    "import gym_derk\n",
    "import gym\n",
    "import asyncio\n",
    "import os\n",
    "from typing import List, Dict, Tuple\n",
    "import numpy as np\n",
    "from gym_derk.derk_app_instance import DerkAppInstance\n",
    "from gym_derk.derk_server import DerkAgentServer, DerkSession\n",
    "import logging\n",
    "# from tf_agents.trajectories import time_step as ts\n",
    "# from tf_agents.specs import tensor_spec\n",
    "# from tf_agents.specs import array_spec\n",
    "import numpy as np\n",
    "# import tf_agents\n",
    "import tensorflow as tf\n",
    "\n",
    "world = DerkEnv()\n"
   ]
  },
  {
   "cell_type": "code",
   "execution_count": 5,
   "metadata": {},
   "outputs": [],
   "source": [
    "world.close()"
   ]
  },
  {
   "cell_type": "code",
   "execution_count": 6,
   "metadata": {},
   "outputs": [],
   "source": [
    "reward= {\n",
    "            \"damageEnemyStatue\": 4,\n",
    "            \"damageEnemyUnit\": 2,\n",
    "            \"killEnemyStatue\": 4,\n",
    "            \"killEnemyUnit\": 2,\n",
    "            \"healFriendlyStatue\": 1,\n",
    "            \"healTeammatel\": 2,\n",
    "            \"healTeammate2\": 2,\n",
    "            \"timeSpentHomeBase\": 0,\n",
    "            \"timeSpentHomeTerritory\": 0,\n",
    "            \"timeSpentAwayTerritory\": 0,\n",
    "            \"timeSpentAwayBase\": 0,\n",
    "            \"damageTaken\": -1,\n",
    "            \"friendlyFire\": -1,\n",
    "            \"healEnemy\": -1,\n",
    "            \"fallDamageTaken\": -10,\n",
    "            \"statueDamageTaken\": 0,\n",
    "            \"manualBonus\": 0,\n",
    "            \"victory\": 100,\n",
    "            \"loss\": -100,\n",
    "            \"tie\": 0,\n",
    "            \"teamSpirit\": 0.5,\n",
    "            \"timeScaling\": 1,\n",
    "        }"
   ]
  },
  {
   "cell_type": "code",
   "execution_count": 13,
   "metadata": {},
   "outputs": [
    {
     "ename": "OSError",
     "evalue": "[Errno 48] error while attempting to bind on address ('127.0.0.1', 8788): address already in use",
     "output_type": "error",
     "traceback": [
      "\u001b[0;31m---------------------------------------------------------------------------\u001b[0m",
      "\u001b[0;31mOSError\u001b[0m                                   Traceback (most recent call last)",
      "\u001b[1;32m/Users/julienfraysse/code/JFFraysse/derks-gym/notebooks/derks-gym.ipynb Cellule 17\u001b[0m in \u001b[0;36m1\n\u001b[0;32m----> <a href='vscode-notebook-cell:/Users/julienfraysse/code/JFFraysse/derks-gym/notebooks/derks-gym.ipynb#X21sZmlsZQ%3D%3D?line=0'>1</a>\u001b[0m world \u001b[39m=\u001b[39m DerkEnv(mode\u001b[39m=\u001b[39;49m\u001b[39m\"\u001b[39;49m\u001b[39mnormal\u001b[39;49m\u001b[39m\"\u001b[39;49m,reward_function\u001b[39m=\u001b[39;49mreward,turbo_mode\u001b[39m=\u001b[39;49m\u001b[39mTrue\u001b[39;49;00m)\n",
      "File \u001b[0;32m~/.pyenv/versions/3.10.6/envs/lewagon/lib/python3.10/site-packages/gym_derk/envs/derk_env.py:66\u001b[0m, in \u001b[0;36mDerkEnv.__init__\u001b[0;34m(self, mode, n_arenas, reward_function, turbo_mode, home_team, away_team, session_args, app_args, agent_server_args)\u001b[0m\n\u001b[1;32m     64\u001b[0m \u001b[39mself\u001b[39m\u001b[39m.\u001b[39mlogger \u001b[39m=\u001b[39m logger\u001b[39m.\u001b[39mgetChild(\u001b[39m'\u001b[39m\u001b[39mDerkEnv(\u001b[39m\u001b[39m{}\u001b[39;00m\u001b[39m)\u001b[39m\u001b[39m'\u001b[39m\u001b[39m.\u001b[39mformat(agent_server_args[\u001b[39m'\u001b[39m\u001b[39mport\u001b[39m\u001b[39m'\u001b[39m]))\n\u001b[1;32m     65\u001b[0m \u001b[39mself\u001b[39m\u001b[39m.\u001b[39mserver \u001b[39m=\u001b[39m DerkAgentServer(\u001b[39mself\u001b[39m\u001b[39m.\u001b[39m_handle_session, \u001b[39m*\u001b[39m\u001b[39m*\u001b[39magent_server_args)\n\u001b[0;32m---> 66\u001b[0m asyncio\u001b[39m.\u001b[39;49mget_event_loop()\u001b[39m.\u001b[39;49mrun_until_complete(\u001b[39mself\u001b[39;49m\u001b[39m.\u001b[39;49mserver\u001b[39m.\u001b[39;49mstart())\n\u001b[1;32m     68\u001b[0m \u001b[39mif\u001b[39;00m \u001b[39m'\u001b[39m\u001b[39magent_hosts\u001b[39m\u001b[39m'\u001b[39m \u001b[39mnot\u001b[39;00m \u001b[39min\u001b[39;00m \u001b[39mself\u001b[39m\u001b[39m.\u001b[39msession_args:\n\u001b[1;32m     69\u001b[0m   \u001b[39mif\u001b[39;00m \u001b[39mself\u001b[39m\u001b[39m.\u001b[39mmode \u001b[39m==\u001b[39m \u001b[39m'\u001b[39m\u001b[39mconnected\u001b[39m\u001b[39m'\u001b[39m:\n",
      "File \u001b[0;32m~/.pyenv/versions/3.10.6/envs/lewagon/lib/python3.10/site-packages/nest_asyncio.py:90\u001b[0m, in \u001b[0;36m_patch_loop.<locals>.run_until_complete\u001b[0;34m(self, future)\u001b[0m\n\u001b[1;32m     87\u001b[0m \u001b[39mif\u001b[39;00m \u001b[39mnot\u001b[39;00m f\u001b[39m.\u001b[39mdone():\n\u001b[1;32m     88\u001b[0m     \u001b[39mraise\u001b[39;00m \u001b[39mRuntimeError\u001b[39;00m(\n\u001b[1;32m     89\u001b[0m         \u001b[39m'\u001b[39m\u001b[39mEvent loop stopped before Future completed.\u001b[39m\u001b[39m'\u001b[39m)\n\u001b[0;32m---> 90\u001b[0m \u001b[39mreturn\u001b[39;00m f\u001b[39m.\u001b[39;49mresult()\n",
      "File \u001b[0;32m~/.pyenv/versions/3.10.6/lib/python3.10/asyncio/futures.py:201\u001b[0m, in \u001b[0;36mFuture.result\u001b[0;34m(self)\u001b[0m\n\u001b[1;32m    199\u001b[0m \u001b[39mself\u001b[39m\u001b[39m.\u001b[39m__log_traceback \u001b[39m=\u001b[39m \u001b[39mFalse\u001b[39;00m\n\u001b[1;32m    200\u001b[0m \u001b[39mif\u001b[39;00m \u001b[39mself\u001b[39m\u001b[39m.\u001b[39m_exception \u001b[39mis\u001b[39;00m \u001b[39mnot\u001b[39;00m \u001b[39mNone\u001b[39;00m:\n\u001b[0;32m--> 201\u001b[0m     \u001b[39mraise\u001b[39;00m \u001b[39mself\u001b[39m\u001b[39m.\u001b[39m_exception\u001b[39m.\u001b[39mwith_traceback(\u001b[39mself\u001b[39m\u001b[39m.\u001b[39m_exception_tb)\n\u001b[1;32m    202\u001b[0m \u001b[39mreturn\u001b[39;00m \u001b[39mself\u001b[39m\u001b[39m.\u001b[39m_result\n",
      "File \u001b[0;32m~/.pyenv/versions/3.10.6/lib/python3.10/asyncio/tasks.py:232\u001b[0m, in \u001b[0;36mTask.__step\u001b[0;34m(***failed resolving arguments***)\u001b[0m\n\u001b[1;32m    228\u001b[0m \u001b[39mtry\u001b[39;00m:\n\u001b[1;32m    229\u001b[0m     \u001b[39mif\u001b[39;00m exc \u001b[39mis\u001b[39;00m \u001b[39mNone\u001b[39;00m:\n\u001b[1;32m    230\u001b[0m         \u001b[39m# We use the `send` method directly, because coroutines\u001b[39;00m\n\u001b[1;32m    231\u001b[0m         \u001b[39m# don't have `__iter__` and `__next__` methods.\u001b[39;00m\n\u001b[0;32m--> 232\u001b[0m         result \u001b[39m=\u001b[39m coro\u001b[39m.\u001b[39;49msend(\u001b[39mNone\u001b[39;49;00m)\n\u001b[1;32m    233\u001b[0m     \u001b[39melse\u001b[39;00m:\n\u001b[1;32m    234\u001b[0m         result \u001b[39m=\u001b[39m coro\u001b[39m.\u001b[39mthrow(exc)\n",
      "File \u001b[0;32m~/.pyenv/versions/3.10.6/envs/lewagon/lib/python3.10/site-packages/gym_derk/derk_server.py:148\u001b[0m, in \u001b[0;36mDerkAgentServer.start\u001b[0;34m(self)\u001b[0m\n\u001b[1;32m    146\u001b[0m \u001b[39m\"\"\"Start the server\"\"\"\u001b[39;00m\n\u001b[1;32m    147\u001b[0m start_server \u001b[39m=\u001b[39m websockets\u001b[39m.\u001b[39mserve(\u001b[39mself\u001b[39m\u001b[39m.\u001b[39m_handle_websocket, \u001b[39mself\u001b[39m\u001b[39m.\u001b[39mhost, \u001b[39mself\u001b[39m\u001b[39m.\u001b[39mport, max_size\u001b[39m=\u001b[39m\u001b[39mNone\u001b[39;00m)\n\u001b[0;32m--> 148\u001b[0m \u001b[39mself\u001b[39m\u001b[39m.\u001b[39mwebsocket_server \u001b[39m=\u001b[39m \u001b[39mawait\u001b[39;00m start_server\n\u001b[1;32m    149\u001b[0m \u001b[39mself\u001b[39m\u001b[39m.\u001b[39mlogger\u001b[39m.\u001b[39minfo(\u001b[39m'\u001b[39m\u001b[39mServing on ws://\u001b[39m\u001b[39m'\u001b[39m \u001b[39m+\u001b[39m \u001b[39mself\u001b[39m\u001b[39m.\u001b[39mhost \u001b[39m+\u001b[39m \u001b[39m'\u001b[39m\u001b[39m:\u001b[39m\u001b[39m'\u001b[39m \u001b[39m+\u001b[39m \u001b[39mstr\u001b[39m(\u001b[39mself\u001b[39m\u001b[39m.\u001b[39mport))\n",
      "File \u001b[0;32m~/.pyenv/versions/3.10.6/envs/lewagon/lib/python3.10/site-packages/websockets/legacy/server.py:1117\u001b[0m, in \u001b[0;36mServe.__await_impl__\u001b[0;34m(self)\u001b[0m\n\u001b[1;32m   1116\u001b[0m \u001b[39masync\u001b[39;00m \u001b[39mdef\u001b[39;00m \u001b[39m__await_impl__\u001b[39m(\u001b[39mself\u001b[39m) \u001b[39m-\u001b[39m\u001b[39m>\u001b[39m WebSocketServer:\n\u001b[0;32m-> 1117\u001b[0m     server \u001b[39m=\u001b[39m \u001b[39mawait\u001b[39;00m \u001b[39mself\u001b[39m\u001b[39m.\u001b[39m_create_server()\n\u001b[1;32m   1118\u001b[0m     \u001b[39mself\u001b[39m\u001b[39m.\u001b[39mws_server\u001b[39m.\u001b[39mwrap(server)\n\u001b[1;32m   1119\u001b[0m     \u001b[39mreturn\u001b[39;00m \u001b[39mself\u001b[39m\u001b[39m.\u001b[39mws_server\n",
      "File \u001b[0;32m~/.pyenv/versions/3.10.6/lib/python3.10/asyncio/base_events.py:1505\u001b[0m, in \u001b[0;36mBaseEventLoop.create_server\u001b[0;34m(self, protocol_factory, host, port, family, flags, sock, backlog, ssl, reuse_address, reuse_port, ssl_handshake_timeout, start_serving)\u001b[0m\n\u001b[1;32m   1503\u001b[0m             sock\u001b[39m.\u001b[39mbind(sa)\n\u001b[1;32m   1504\u001b[0m         \u001b[39mexcept\u001b[39;00m \u001b[39mOSError\u001b[39;00m \u001b[39mas\u001b[39;00m err:\n\u001b[0;32m-> 1505\u001b[0m             \u001b[39mraise\u001b[39;00m \u001b[39mOSError\u001b[39;00m(err\u001b[39m.\u001b[39merrno, \u001b[39m'\u001b[39m\u001b[39merror while attempting \u001b[39m\u001b[39m'\u001b[39m\n\u001b[1;32m   1506\u001b[0m                           \u001b[39m'\u001b[39m\u001b[39mto bind on address \u001b[39m\u001b[39m%r\u001b[39;00m\u001b[39m: \u001b[39m\u001b[39m%s\u001b[39;00m\u001b[39m'\u001b[39m\n\u001b[1;32m   1507\u001b[0m                           \u001b[39m%\u001b[39m (sa, err\u001b[39m.\u001b[39mstrerror\u001b[39m.\u001b[39mlower())) \u001b[39mfrom\u001b[39;00m \u001b[39mNone\u001b[39m\n\u001b[1;32m   1508\u001b[0m     completed \u001b[39m=\u001b[39m \u001b[39mTrue\u001b[39;00m\n\u001b[1;32m   1509\u001b[0m \u001b[39mfinally\u001b[39;00m:\n",
      "\u001b[0;31mOSError\u001b[0m: [Errno 48] error while attempting to bind on address ('127.0.0.1', 8788): address already in use"
     ]
    }
   ],
   "source": [
    "world = DerkEnv(mode=\"normal\",reward_function=reward,turbo_mode=True)"
   ]
  },
  {
   "cell_type": "code",
   "execution_count": 17,
   "metadata": {},
   "outputs": [],
   "source": [
    "world.close()"
   ]
  },
  {
   "cell_type": "code",
   "execution_count": 18,
   "metadata": {},
   "outputs": [
    {
     "ename": "OSError",
     "evalue": "[Errno 48] error while attempting to bind on address ('127.0.0.1', 8788): address already in use",
     "output_type": "error",
     "traceback": [
      "\u001b[0;31m---------------------------------------------------------------------------\u001b[0m",
      "\u001b[0;31mOSError\u001b[0m                                   Traceback (most recent call last)",
      "\u001b[1;32m/Users/julienfraysse/code/JFFraysse/derks-gym/notebooks/derks-gym.ipynb Cellule 19\u001b[0m in \u001b[0;36m1\n\u001b[0;32m----> <a href='vscode-notebook-cell:/Users/julienfraysse/code/JFFraysse/derks-gym/notebooks/derks-gym.ipynb#X36sZmlsZQ%3D%3D?line=0'>1</a>\u001b[0m new_world \u001b[39m=\u001b[39m DerkEnv()\n",
      "File \u001b[0;32m~/.pyenv/versions/3.10.6/envs/lewagon/lib/python3.10/site-packages/gym_derk/envs/derk_env.py:66\u001b[0m, in \u001b[0;36mDerkEnv.__init__\u001b[0;34m(self, mode, n_arenas, reward_function, turbo_mode, home_team, away_team, session_args, app_args, agent_server_args)\u001b[0m\n\u001b[1;32m     64\u001b[0m \u001b[39mself\u001b[39m\u001b[39m.\u001b[39mlogger \u001b[39m=\u001b[39m logger\u001b[39m.\u001b[39mgetChild(\u001b[39m'\u001b[39m\u001b[39mDerkEnv(\u001b[39m\u001b[39m{}\u001b[39;00m\u001b[39m)\u001b[39m\u001b[39m'\u001b[39m\u001b[39m.\u001b[39mformat(agent_server_args[\u001b[39m'\u001b[39m\u001b[39mport\u001b[39m\u001b[39m'\u001b[39m]))\n\u001b[1;32m     65\u001b[0m \u001b[39mself\u001b[39m\u001b[39m.\u001b[39mserver \u001b[39m=\u001b[39m DerkAgentServer(\u001b[39mself\u001b[39m\u001b[39m.\u001b[39m_handle_session, \u001b[39m*\u001b[39m\u001b[39m*\u001b[39magent_server_args)\n\u001b[0;32m---> 66\u001b[0m asyncio\u001b[39m.\u001b[39;49mget_event_loop()\u001b[39m.\u001b[39;49mrun_until_complete(\u001b[39mself\u001b[39;49m\u001b[39m.\u001b[39;49mserver\u001b[39m.\u001b[39;49mstart())\n\u001b[1;32m     68\u001b[0m \u001b[39mif\u001b[39;00m \u001b[39m'\u001b[39m\u001b[39magent_hosts\u001b[39m\u001b[39m'\u001b[39m \u001b[39mnot\u001b[39;00m \u001b[39min\u001b[39;00m \u001b[39mself\u001b[39m\u001b[39m.\u001b[39msession_args:\n\u001b[1;32m     69\u001b[0m   \u001b[39mif\u001b[39;00m \u001b[39mself\u001b[39m\u001b[39m.\u001b[39mmode \u001b[39m==\u001b[39m \u001b[39m'\u001b[39m\u001b[39mconnected\u001b[39m\u001b[39m'\u001b[39m:\n",
      "File \u001b[0;32m~/.pyenv/versions/3.10.6/envs/lewagon/lib/python3.10/site-packages/nest_asyncio.py:90\u001b[0m, in \u001b[0;36m_patch_loop.<locals>.run_until_complete\u001b[0;34m(self, future)\u001b[0m\n\u001b[1;32m     87\u001b[0m \u001b[39mif\u001b[39;00m \u001b[39mnot\u001b[39;00m f\u001b[39m.\u001b[39mdone():\n\u001b[1;32m     88\u001b[0m     \u001b[39mraise\u001b[39;00m \u001b[39mRuntimeError\u001b[39;00m(\n\u001b[1;32m     89\u001b[0m         \u001b[39m'\u001b[39m\u001b[39mEvent loop stopped before Future completed.\u001b[39m\u001b[39m'\u001b[39m)\n\u001b[0;32m---> 90\u001b[0m \u001b[39mreturn\u001b[39;00m f\u001b[39m.\u001b[39;49mresult()\n",
      "File \u001b[0;32m~/.pyenv/versions/3.10.6/lib/python3.10/asyncio/futures.py:201\u001b[0m, in \u001b[0;36mFuture.result\u001b[0;34m(self)\u001b[0m\n\u001b[1;32m    199\u001b[0m \u001b[39mself\u001b[39m\u001b[39m.\u001b[39m__log_traceback \u001b[39m=\u001b[39m \u001b[39mFalse\u001b[39;00m\n\u001b[1;32m    200\u001b[0m \u001b[39mif\u001b[39;00m \u001b[39mself\u001b[39m\u001b[39m.\u001b[39m_exception \u001b[39mis\u001b[39;00m \u001b[39mnot\u001b[39;00m \u001b[39mNone\u001b[39;00m:\n\u001b[0;32m--> 201\u001b[0m     \u001b[39mraise\u001b[39;00m \u001b[39mself\u001b[39m\u001b[39m.\u001b[39m_exception\u001b[39m.\u001b[39mwith_traceback(\u001b[39mself\u001b[39m\u001b[39m.\u001b[39m_exception_tb)\n\u001b[1;32m    202\u001b[0m \u001b[39mreturn\u001b[39;00m \u001b[39mself\u001b[39m\u001b[39m.\u001b[39m_result\n",
      "File \u001b[0;32m~/.pyenv/versions/3.10.6/lib/python3.10/asyncio/tasks.py:232\u001b[0m, in \u001b[0;36mTask.__step\u001b[0;34m(***failed resolving arguments***)\u001b[0m\n\u001b[1;32m    228\u001b[0m \u001b[39mtry\u001b[39;00m:\n\u001b[1;32m    229\u001b[0m     \u001b[39mif\u001b[39;00m exc \u001b[39mis\u001b[39;00m \u001b[39mNone\u001b[39;00m:\n\u001b[1;32m    230\u001b[0m         \u001b[39m# We use the `send` method directly, because coroutines\u001b[39;00m\n\u001b[1;32m    231\u001b[0m         \u001b[39m# don't have `__iter__` and `__next__` methods.\u001b[39;00m\n\u001b[0;32m--> 232\u001b[0m         result \u001b[39m=\u001b[39m coro\u001b[39m.\u001b[39;49msend(\u001b[39mNone\u001b[39;49;00m)\n\u001b[1;32m    233\u001b[0m     \u001b[39melse\u001b[39;00m:\n\u001b[1;32m    234\u001b[0m         result \u001b[39m=\u001b[39m coro\u001b[39m.\u001b[39mthrow(exc)\n",
      "File \u001b[0;32m~/.pyenv/versions/3.10.6/envs/lewagon/lib/python3.10/site-packages/gym_derk/derk_server.py:148\u001b[0m, in \u001b[0;36mDerkAgentServer.start\u001b[0;34m(self)\u001b[0m\n\u001b[1;32m    146\u001b[0m \u001b[39m\"\"\"Start the server\"\"\"\u001b[39;00m\n\u001b[1;32m    147\u001b[0m start_server \u001b[39m=\u001b[39m websockets\u001b[39m.\u001b[39mserve(\u001b[39mself\u001b[39m\u001b[39m.\u001b[39m_handle_websocket, \u001b[39mself\u001b[39m\u001b[39m.\u001b[39mhost, \u001b[39mself\u001b[39m\u001b[39m.\u001b[39mport, max_size\u001b[39m=\u001b[39m\u001b[39mNone\u001b[39;00m)\n\u001b[0;32m--> 148\u001b[0m \u001b[39mself\u001b[39m\u001b[39m.\u001b[39mwebsocket_server \u001b[39m=\u001b[39m \u001b[39mawait\u001b[39;00m start_server\n\u001b[1;32m    149\u001b[0m \u001b[39mself\u001b[39m\u001b[39m.\u001b[39mlogger\u001b[39m.\u001b[39minfo(\u001b[39m'\u001b[39m\u001b[39mServing on ws://\u001b[39m\u001b[39m'\u001b[39m \u001b[39m+\u001b[39m \u001b[39mself\u001b[39m\u001b[39m.\u001b[39mhost \u001b[39m+\u001b[39m \u001b[39m'\u001b[39m\u001b[39m:\u001b[39m\u001b[39m'\u001b[39m \u001b[39m+\u001b[39m \u001b[39mstr\u001b[39m(\u001b[39mself\u001b[39m\u001b[39m.\u001b[39mport))\n",
      "File \u001b[0;32m~/.pyenv/versions/3.10.6/envs/lewagon/lib/python3.10/site-packages/websockets/legacy/server.py:1117\u001b[0m, in \u001b[0;36mServe.__await_impl__\u001b[0;34m(self)\u001b[0m\n\u001b[1;32m   1116\u001b[0m \u001b[39masync\u001b[39;00m \u001b[39mdef\u001b[39;00m \u001b[39m__await_impl__\u001b[39m(\u001b[39mself\u001b[39m) \u001b[39m-\u001b[39m\u001b[39m>\u001b[39m WebSocketServer:\n\u001b[0;32m-> 1117\u001b[0m     server \u001b[39m=\u001b[39m \u001b[39mawait\u001b[39;00m \u001b[39mself\u001b[39m\u001b[39m.\u001b[39m_create_server()\n\u001b[1;32m   1118\u001b[0m     \u001b[39mself\u001b[39m\u001b[39m.\u001b[39mws_server\u001b[39m.\u001b[39mwrap(server)\n\u001b[1;32m   1119\u001b[0m     \u001b[39mreturn\u001b[39;00m \u001b[39mself\u001b[39m\u001b[39m.\u001b[39mws_server\n",
      "File \u001b[0;32m~/.pyenv/versions/3.10.6/lib/python3.10/asyncio/base_events.py:1505\u001b[0m, in \u001b[0;36mBaseEventLoop.create_server\u001b[0;34m(self, protocol_factory, host, port, family, flags, sock, backlog, ssl, reuse_address, reuse_port, ssl_handshake_timeout, start_serving)\u001b[0m\n\u001b[1;32m   1503\u001b[0m             sock\u001b[39m.\u001b[39mbind(sa)\n\u001b[1;32m   1504\u001b[0m         \u001b[39mexcept\u001b[39;00m \u001b[39mOSError\u001b[39;00m \u001b[39mas\u001b[39;00m err:\n\u001b[0;32m-> 1505\u001b[0m             \u001b[39mraise\u001b[39;00m \u001b[39mOSError\u001b[39;00m(err\u001b[39m.\u001b[39merrno, \u001b[39m'\u001b[39m\u001b[39merror while attempting \u001b[39m\u001b[39m'\u001b[39m\n\u001b[1;32m   1506\u001b[0m                           \u001b[39m'\u001b[39m\u001b[39mto bind on address \u001b[39m\u001b[39m%r\u001b[39;00m\u001b[39m: \u001b[39m\u001b[39m%s\u001b[39;00m\u001b[39m'\u001b[39m\n\u001b[1;32m   1507\u001b[0m                           \u001b[39m%\u001b[39m (sa, err\u001b[39m.\u001b[39mstrerror\u001b[39m.\u001b[39mlower())) \u001b[39mfrom\u001b[39;00m \u001b[39mNone\u001b[39m\n\u001b[1;32m   1508\u001b[0m     completed \u001b[39m=\u001b[39m \u001b[39mTrue\u001b[39;00m\n\u001b[1;32m   1509\u001b[0m \u001b[39mfinally\u001b[39;00m:\n",
      "\u001b[0;31mOSError\u001b[0m: [Errno 48] error while attempting to bind on address ('127.0.0.1', 8788): address already in use"
     ]
    }
   ],
   "source": [
    "new_world = DerkEnv()"
   ]
  }
 ],
 "metadata": {
  "kernelspec": {
   "display_name": "lewagon",
   "language": "python",
   "name": "python3"
  },
  "language_info": {
   "codemirror_mode": {
    "name": "ipython",
    "version": 3
   },
   "file_extension": ".py",
   "mimetype": "text/x-python",
   "name": "python",
   "nbconvert_exporter": "python",
   "pygments_lexer": "ipython3",
   "version": "3.10.6"
  },
  "orig_nbformat": 4
 },
 "nbformat": 4,
 "nbformat_minor": 2
}
