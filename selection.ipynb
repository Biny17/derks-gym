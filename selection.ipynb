{
 "cells": [
  {
   "cell_type": "code",
   "execution_count": 1,
   "metadata": {},
   "outputs": [
    {
     "name": "stderr",
     "output_type": "stream",
     "text": [
      "2023-06-27 21:45:34.894350: I tensorflow/core/platform/cpu_feature_guard.cc:182] This TensorFlow binary is optimized to use available CPU instructions in performance-critical operations.\n",
      "To enable the following instructions: AVX2 FMA, in other operations, rebuild TensorFlow with the appropriate compiler flags.\n"
     ]
    }
   ],
   "source": [
    "from src import environments\n",
    "import nest_asyncio\n",
    "nest_asyncio.apply()\n",
    "\n",
    "from gym_derk.envs import DerkEnv\n",
    "import gym_derk\n",
    "from tensorflow.keras import layers\n",
    "from tensorflow import keras\n",
    "import numpy as np\n",
    "from src.environments import EnvPerso, EnvPersoInput"
   ]
  },
  {
   "cell_type": "code",
   "execution_count": 2,
   "metadata": {},
   "outputs": [],
   "source": [
    "%load_ext autoreload\n",
    "%autoreload 2"
   ]
  },
  {
   "cell_type": "code",
   "execution_count": 31,
   "metadata": {},
   "outputs": [],
   "source": [
    "reward= {\n",
    "    \"damageEnemyStatue\": 4,\n",
    "    \"damageEnemyUnit\": 2,\n",
    "    \"killEnemyStatue\": 4,\n",
    "    \"killEnemyUnit\": 2,\n",
    "    \"healFriendlyStatue\": 1,\n",
    "    \"healTeammatel\": 2,\n",
    "    \"healTeammate2\": 2,\n",
    "    \"timeSpentHomeBase\": 0,\n",
    "    \"timeSpentHomeTerritory\": 0,\n",
    "    \"timeSpentAwayTerritory\": 0,\n",
    "    \"timeSpentAwayBase\": 0,\n",
    "    \"damageTaken\": -1,\n",
    "    \"friendlyFire\": -1,\n",
    "    \"healEnemy\": -1,\n",
    "    \"fallDamageTaken\": -10,\n",
    "    \"statueDamageTaken\": 0,\n",
    "    \"manualBonus\": 0,\n",
    "    \"victory\": 100,\n",
    "    \"loss\": -100,\n",
    "    \"tie\": 0,\n",
    "    \"teamSpirit\": 0.5,\n",
    "    \"timeScaling\": 1,\n",
    "}\n",
    "\n",
    "env = EnvPersoInput(reward_function = reward)"
   ]
  },
  {
   "cell_type": "code",
   "execution_count": 32,
   "metadata": {},
   "outputs": [
    {
     "data": {
      "text/plain": [
       "array([ 1.        ,  1.        ,  0.2718996 , -0.85279083,  0.17655803,\n",
       "       -0.25188857,  0.24637352, -0.39668316,  0.99241173, -0.03868039,\n",
       "        0.8233451 , -0.10572719,  0.678536  , -0.06146764,  0.6793934 ,\n",
       "       -0.01186176,  0.        ,  0.        ,  0.        ,  0.        ,\n",
       "        0.        ,  1.        ,  1.        ,  0.        ,  0.        ,\n",
       "        0.11146335,  0.11146335,  0.11146335, -0.03985602, -0.12317556,\n",
       "        0.        ,  0.        ,  0.        ,  0.        ,  0.        ,\n",
       "        0.        ,  0.        ,  0.        ,  0.        ,  0.        ,\n",
       "        0.        ,  0.        ,  0.        ,  0.        ,  0.        ,\n",
       "        1.        ,  0.        ,  0.        ,  0.        ,  0.        ,\n",
       "        0.        ,  0.        ,  0.        ,  0.        ,  0.        ,\n",
       "        0.        ,  0.        ,  0.        ,  0.        ,  0.        ,\n",
       "        0.        ,  0.        ,  0.        ,  0.        ], dtype=float32)"
      ]
     },
     "execution_count": 32,
     "metadata": {},
     "output_type": "execute_result"
    }
   ],
   "source": [
    "env.reset()"
   ]
  },
  {
   "cell_type": "code",
   "execution_count": 24,
   "metadata": {},
   "outputs": [
    {
     "data": {
      "text/plain": [
       "BoundedTensorSpec(shape=(15,), dtype=tf.float32, name='action', minimum=array(-1., dtype=float32), maximum=array(1., dtype=float32))"
      ]
     },
     "execution_count": 24,
     "metadata": {},
     "output_type": "execute_result"
    }
   ],
   "source": [
    "env.action_spec()"
   ]
  },
  {
   "cell_type": "code",
   "execution_count": 30,
   "metadata": {},
   "outputs": [],
   "source": [
    "env.close()"
   ]
  },
  {
   "cell_type": "code",
   "execution_count": 35,
   "metadata": {},
   "outputs": [
    {
     "name": "stderr",
     "output_type": "stream",
     "text": [
      "WARNING:absl:Only tf.keras.optimizers.Optimiers are well supported, got a non-TF2 optimizer: <tensorflow.python.training.adam.AdamOptimizer object at 0x7f1800baf040>\n"
     ]
    }
   ],
   "source": [
    "\n",
    "import tensorflow as tf\n",
    "from tf_agents.agents.ppo import ppo_agent\n",
    "from tf_agents.environments import suite_gym\n",
    "from tf_agents.networks import actor_distribution_network, value_network\n",
    "from tf_agents.utils import common\n",
    "\n",
    "# Define the network for the agent.\n",
    "actor_net = actor_distribution_network.ActorDistributionNetwork(\n",
    "    env.observation_spec(),\n",
    "    env.action_spec())\n",
    "\n",
    "value_net = value_network.ValueNetwork(\n",
    "    env.observation_spec())\n",
    "# Define the optimizer.\n",
    "optimizer = tf.compat.v1.train.AdamOptimizer(learning_rate=0.001)\n",
    "\n",
    "# Define the train step counter.\n",
    "train_step_counter = tf.Variable(0)\n",
    "\n",
    "# Create the PPO agent.\n",
    "agent = ppo_agent.PPOAgent(\n",
    "    env.time_step_spec(),\n",
    "    env.action_spec(),\n",
    "    optimizer,\n",
    "    actor_net=actor_net,\n",
    "    value_net=value_net,\n",
    "    train_step_counter=train_step_counter)\n",
    "\n",
    "# Initialize the agent.\n",
    "agent.initialize()\n",
    "\n",
    "# Now you can use this agent to interact with the environment and train it."
   ]
  },
  {
   "cell_type": "code",
   "execution_count": null,
   "metadata": {},
   "outputs": [],
   "source": [
    "# class Agent:\n",
    "#     def __init__(self, shape_of_model: tuple):\n",
    "#         nb_outputs = 15\n",
    "#         self.model = keras.models.Sequential()\n",
    "#         self.model.add(layers.Input(shape=(64,)))\n",
    "#         for n in shape_of_model:\n",
    "#             self.model.add(layers.Dense(units=n, activation='relu'))\n",
    "#         self.model.add(layers.Dense(units=nb_outputs, activation='linear'))\n",
    "    \n",
    "#     def action(self, state: np.ndarray):\n",
    "#         prediction = self.model.predict(state)\n",
    "#         # min max scaling\n",
    "        \n",
    "#         return self.model.predict(state)\n",
    "    \n"
   ]
  },
  {
   "cell_type": "code",
   "execution_count": null,
   "metadata": {},
   "outputs": [],
   "source": [
    "# class AgentManager:\n",
    "#     def __init__(self, env, number_of_agents):\n",
    "#         self.env = env\n",
    "#         self.agents = [Agent(shape_of_model=(15,15)) for i in range(number_of_agents)]\n",
    "            \n",
    "#     def take_action(self, observation):\n",
    "#         return [agent.action(observation) for agent in self.agents]   \n",
    "        \n",
    "        "
   ]
  }
 ],
 "metadata": {
  "kernelspec": {
   "display_name": "lewagon",
   "language": "python",
   "name": "python3"
  },
  "language_info": {
   "codemirror_mode": {
    "name": "ipython",
    "version": 3
   },
   "file_extension": ".py",
   "mimetype": "text/x-python",
   "name": "python",
   "nbconvert_exporter": "python",
   "pygments_lexer": "ipython3",
   "version": "3.10.6"
  },
  "orig_nbformat": 4
 },
 "nbformat": 4,
 "nbformat_minor": 2
}
